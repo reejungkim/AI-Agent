{
 "cells": [
  {
   "cell_type": "code",
   "execution_count": null,
   "id": "5892749b",
   "metadata": {},
   "outputs": [],
   "source": [
    "\n",
    "import os\n",
    "from dotenv import load_dotenv\n",
    "\n",
    "os.chdir('/Users/reejungkim/Documents/Git/working-in-progress')\n",
    "load_dotenv()\n"
   ]
  },
  {
   "cell_type": "code",
   "execution_count": null,
   "id": "6686b377",
   "metadata": {},
   "outputs": [],
   "source": [
    "from langchain.llms import OpenAI\n",
    "\n",
    "# LLM 초기화\n",
    "llm = OpenAI(api_key=os.environ[\"huggingface_read\"])\n",
    "\n",
    "# 질문 입력\n",
    "response = llm(\"안녕하세요! LangChain이란 무엇인가요?\") \n",
    "print(response)"
   ]
  },
  {
   "cell_type": "code",
   "execution_count": null,
   "id": "22670a8e",
   "metadata": {},
   "outputs": [],
   "source": [
    "from langchain_huggingface import HuggingFaceHub\n",
    "\n",
    "# LLM 초기화\n",
    "llm = HuggingFaceHub(\n",
    "    repo_id=\"mistralai/Mixtral-8x7B-Instruct-v0.1\",\n",
    "    huggingfacehub_api_token=os.environ[\"huggingface_read\"],\n",
    "    model_kwargs={\"temperature\": 0.7, \"max_length\": 512}  #temperature: 창의성, max_length: 출력 길이\n",
    ")\n",
    "\n",
    "# 질문 입력\n",
    "response = llm.invoke(\"안녕하세요! LangChain이란 무엇인가요?\")\n",
    "print(response)"
   ]
  },
  {
   "cell_type": "code",
   "execution_count": null,
   "id": "5b18368e",
   "metadata": {},
   "outputs": [],
   "source": [
    "from langchain.document_loaders import TextLoader\n",
    "from langchain.text_splitter import CharacterTextSplitter\n",
    "from langchain.vectorstores import Chroma\n",
    "from langchain.embeddings import OpenAIEmbeddings\n",
    "from langchain.chains import RetrievalQA\n",
    "\n",
    "# 1. 문서 로드\n",
    "loader = TextLoader(\"sample.txt\")  # sample.txt는 텍스트 파일\n",
    "documents = loader.load()\n",
    "\n",
    "# 2. 문서 분할\n",
    "text_splitter = CharacterTextSplitter(chunk_size=1000, chunk_overlap=0)\n",
    "texts = text_splitter.split_documents(documents)\n",
    "\n",
    "# 3. 벡터 저장소 생성\n",
    "embeddings = OpenAIEmbeddings(api_key=\"your-api-key\")\n",
    "vectorstore = Chroma.from_documents(texts, embeddings)\n",
    "\n",
    "# 4. 질문 답변 체인 생성\n",
    "qa_chain = RetrievalQA.from_chain_type(\n",
    "    llm=OpenAI(api_key=\"your-api-key\"),\n",
    "    chain_type=\"stuff\",\n",
    "    retriever=vectorstore.as_retriever()\n",
    ")\n",
    "\n",
    "# 5. 질문\n",
    "response = qa_chain.run(\"문서에서 중요한 내용은 무엇인가요?\")\n",
    "print(response)"
   ]
  }
 ],
 "metadata": {
  "kernelspec": {
   "display_name": "myenv",
   "language": "python",
   "name": "python3"
  },
  "language_info": {
   "codemirror_mode": {
    "name": "ipython",
    "version": 3
   },
   "file_extension": ".py",
   "mimetype": "text/x-python",
   "name": "python",
   "nbconvert_exporter": "python",
   "pygments_lexer": "ipython3",
   "version": "3.7.13"
  }
 },
 "nbformat": 4,
 "nbformat_minor": 5
}
