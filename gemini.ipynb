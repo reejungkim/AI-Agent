{
 "cells": [
  {
   "cell_type": "code",
   "execution_count": null,
   "id": "ef829f33",
   "metadata": {},
   "outputs": [],
   "source": [
    "import os\n",
    "from langchain_google_genai import ChatGoogleGenerativeAI, GoogleGenerativeAIEmbeddings\n",
    "from langchain_community.document_loaders import PyPDFLoader\n",
    "from langchain.text_splitter import RecursiveCharacterTextSplitter\n",
    "from langchain_community.vectorstores import FAISS\n",
    "from langchain.chains import RetrievalQA\n",
    "\n",
    "load_dotenv(\"/Users/reejungkim/Documents/Git/working-in-progress/.env\")\n",
    "\n",
    "# 1. LLM 모델 로드 (Gemini Pro 사용)\n",
    "llm = ChatGoogleGenerativeAI(model=\"gemini-pro\")\n",
    "\n",
    "# 2. 임베딩 모델 로드\n",
    "embeddings = GoogleGenerativeAIEmbeddings(model=\"models/embedding-001\")\n",
    "\n",
    "# 3. 문서 로드 및 분할 (예시: PDF)\n",
    "loader = PyPDFLoader(\"your_document.pdf\")\n",
    "documents = loader.load()\n",
    "text_splitter = RecursiveCharacterTextSplitter(chunk_size=1000, chunk_overlap=100)\n",
    "texts = text_splitter.split_documents(documents)\n",
    "\n",
    "# 4. 벡터 저장소 생성 (FAISS 사용)\n",
    "vectorstore = FAISS.from_documents(texts, embeddings)\n",
    "\n",
    "# 5. RAG 체인 생성\n",
    "qa_chain = RetrievalQA.from_chain_type(\n",
    "    llm,\n",
    "    retriever=vectorstore.as_retriever(),\n",
    "    chain_type=\"stuff\" # \"stuff\", \"map_reduce\", \"refine\" 등 상황에 맞게 선택\n",
    ")\n",
    "\n",
    "# 6. 질문 실행\n",
    "question = \"문서의 핵심 내용은 무엇인가요?\"\n",
    "result = qa_chain.invoke({\"query\": question})\n",
    "print(result['result'])"
   ]
  }
 ],
 "metadata": {
  "language_info": {
   "name": "python"
  }
 },
 "nbformat": 4,
 "nbformat_minor": 5
}
