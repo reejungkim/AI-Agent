{
 "cells": [
  {
   "cell_type": "code",
   "execution_count": 7,
   "id": "ef829f33",
   "metadata": {},
   "outputs": [],
   "source": [
    "import os\n",
    "from dotenv import load_dotenv\n",
    "from langchain_google_genai import ChatGoogleGenerativeAI, GoogleGenerativeAIEmbeddings\n",
    "from langchain_community.document_loaders import PyPDFLoader\n",
    "from langchain.text_splitter import RecursiveCharacterTextSplitter\n",
    "from langchain_community.vectorstores import FAISS\n",
    "from langchain.chains import RetrievalQA\n",
    "\n",
    "load_dotenv(\"/Users/reejungkim/Documents/Git/working-in-progress/.env\")\n",
    "GEMINI_API_KEY = os.getenv(\"gemini_llm_api\")\n"
   ]
  },
  {
   "cell_type": "code",
   "execution_count": 9,
   "id": "46bd09c9",
   "metadata": {},
   "outputs": [],
   "source": [
    "\n",
    "# 1. LLM 모델 로드 (Gemini Pro 사용)\n",
    "llm = ChatGoogleGenerativeAI(model=\"gemini-pro\")\n",
    "\n",
    "# 2. 임베딩 모델 로드\n",
    "embeddings = GoogleGenerativeAIEmbeddings(model=\"models/embedding-001\")\n"
   ]
  },
  {
   "cell_type": "code",
   "execution_count": 14,
   "id": "46d82e09",
   "metadata": {},
   "outputs": [
    {
     "name": "stdout",
     "output_type": "stream",
     "text": [
      "인공지능은 인간의 지능을 모방하여 학습, 추론, 문제 해결 등 다양한 작업을 수행할 수 있도록 설계된 컴퓨터 시스템 또는 소프트웨어입니다.\n",
      "\n"
     ]
    }
   ],
   "source": [
    "import google.generativeai as genai\n",
    "import os\n",
    "genai.configure(api_key=os.getenv(\"gemini_llm_api\"))\n",
    "model = genai.GenerativeModel('gemini-2.0-flash') \n",
    "\n",
    "response = model.generate_content(\"인공지능에 대해 한 문장으로 설명하세요.\")\n",
    "print(response.text)"
   ]
  },
  {
   "cell_type": "code",
   "execution_count": null,
   "id": "0b46716b",
   "metadata": {},
   "outputs": [],
   "source": [
    "\n",
    "# 3. 문서 로드 및 분할 (예시: PDF)\n",
    "loader = PyPDFLoader(\"your_document.pdf\")\n",
    "documents = loader.load()\n",
    "text_splitter = RecursiveCharacterTextSplitter(chunk_size=1000, chunk_overlap=100)\n",
    "texts = text_splitter.split_documents(documents)\n"
   ]
  },
  {
   "cell_type": "code",
   "execution_count": null,
   "id": "ced5704f",
   "metadata": {},
   "outputs": [],
   "source": [
    "\n",
    "# 4. 벡터 저장소 생성 (FAISS 사용)\n",
    "vectorstore = FAISS.from_documents(texts, embeddings)\n"
   ]
  },
  {
   "cell_type": "code",
   "execution_count": null,
   "id": "509c6261",
   "metadata": {},
   "outputs": [],
   "source": [
    "\n",
    "# 5. RAG 체인 생성\n",
    "qa_chain = RetrievalQA.from_chain_type(\n",
    "    llm,\n",
    "    retriever=vectorstore.as_retriever(),\n",
    "    chain_type=\"stuff\" # \"stuff\", \"map_reduce\", \"refine\" 등 상황에 맞게 선택\n",
    ")\n",
    "\n",
    "# 6. 질문 실행\n",
    "question = \"문서의 핵심 내용은 무엇인가요?\"\n",
    "result = qa_chain.invoke({\"query\": question})\n",
    "print(result['result'])"
   ]
  },
  {
   "cell_type": "code",
   "execution_count": null,
   "id": "776f55fc",
   "metadata": {},
   "outputs": [],
   "source": []
  }
 ],
 "metadata": {
  "kernelspec": {
   "display_name": "env_llm",
   "language": "python",
   "name": "python3"
  },
  "language_info": {
   "codemirror_mode": {
    "name": "ipython",
    "version": 3
   },
   "file_extension": ".py",
   "mimetype": "text/x-python",
   "name": "python",
   "nbconvert_exporter": "python",
   "pygments_lexer": "ipython3",
   "version": "3.10.18"
  }
 },
 "nbformat": 4,
 "nbformat_minor": 5
}
