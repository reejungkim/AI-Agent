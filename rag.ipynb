{
 "cells": [
  {
   "cell_type": "markdown",
   "id": "acb072da",
   "metadata": {},
   "source": [
    "## Overview\n",
    "    1. Document Loader \n",
    "    2. Text splitter\n",
    "    3. Embedding model\n",
    "    4. Vector store\n",
    "    5. Retriever\n",
    "    6. Prompt template\n",
    "    7. LLM \n",
    "    8. Chain \n",
    "    9. Evaluator\n"
   ]
  },
  {
   "cell_type": "code",
   "execution_count": 172,
   "id": "4c1e2838",
   "metadata": {},
   "outputs": [
    {
     "data": {
      "text/plain": [
       "True"
      ]
     },
     "execution_count": 172,
     "metadata": {},
     "output_type": "execute_result"
    }
   ],
   "source": [
    "import os \n",
    "from dotenv import load_dotenv\n",
    "\n",
    "os.chdir('/Users/reejungkim/Documents/Git/working-in-progress')\n",
    "load_dotenv()"
   ]
  },
  {
   "cell_type": "markdown",
   "id": "2dfddcc7",
   "metadata": {},
   "source": [
    "### `1. Document Loader`"
   ]
  },
  {
   "cell_type": "code",
   "execution_count": 173,
   "id": "5e55c293",
   "metadata": {},
   "outputs": [],
   "source": [
    "from langchain_community.document_loaders import PyPDFLoader\n",
    "\n",
    "file_path = \"/Users/reejungkim/Documents/Git/HuggingFace/Amazon-2024-Annual-Report.pdf\"\n",
    "loader = PyPDFLoader(file_path)\n",
    "\n",
    "docs = loader.load()\n",
    "pages = loader.load_and_split()\n",
    "\n",
    "### 문서 추가 as needed\n",
    "# loader2 = PyPDFLoader('/Users/reejungkim/Documents/Git/HuggingFace/Amazon-2025-Proxy-Statement.pdf')\n",
    "# docs2 = loader2.load()\n",
    "# docs.extend(docs2)\n",
    "\n",
    "# for page in pages:\n",
    "#     print(page.metadata, page)"
   ]
  },
  {
   "cell_type": "code",
   "execution_count": 174,
   "id": "757f7fe3",
   "metadata": {},
   "outputs": [
    {
     "name": "stdout",
     "output_type": "stream",
     "text": [
      "hard questions about which customers will use this capability, what they’ll like most, what they’ll be most\n",
      "disappointed with, why are we drawing the launch line where we are, why is it better than current alternatives,\n",
      "how should we think about pricing, what pricing dimensions we recommend, and why have we made the\n",
      "architectural decisions we have. The Press Release and FAQ are how we work backwards from customers, and\n",
      "how we push ourselves to ask questions customers would if they were in these meetings.\n",
      "Be together whenever possible. There are many paths that can lead to breakthrough innovation. Occasionally,\n",
      "a lone genius comes up with a brilliant idea, and everyone else simply executes it. While that can work, it’s\n",
      "not how we typically operate. Amazon invention is deeply collaborative. It starts with a seed of an idea, then\n",
      "a group of smart, mission-driven people refine, challenge, and build on it together. And, we’ve found that\n",
      "this process is far more effective in person than remote. Of course, you can invent with everybody remote (and\n",
      "some cultures seem to prefer that). However, in my experience, it doesn’t compare to being in the same\n",
      "room. The energy, the pace, the spontaneous brainstorming, the willingness for people to jump in, the way\n",
      "ideas evolve in real time, and the post-meeting iteration is much better when in the same room—and yields\n",
      "better outcomes for our customers and teams. With what’s happening in AI right now, and the likelihood\n",
      "that every customer experience we’ve ever known will be reinvented, there has never been a more important\n",
      "time, in my opinion, to optimize to invent well.\n",
      "Tolerating messy meetings. It’s hard to “schedule” innovation. Y ou can’t book 60 minutes to invent Amazon\n",
      "Prime, or AWS, or Alexa+, or Fulfillment by Amazon, or Regionalization in our Fulfillment Network, or\n",
      "Project Kuiper. These inventions are borne out of somebody asking why we can’t change what’s possible for\n",
      "customers, and then they take on a life of their own, often meandering down multiple dead ends before\n",
      "getting to a final destination. This might bother some regimented folks. But, when we’re inventing, we accept\n",
      "the process being beautifully imperfect.\n",
      "Operate like a startup (in our case, the world’s largest startup).We strive to operate like the world’s largest\n",
      "startup. What does that mean?\n",
      "First, whatever we’re contemplating building has to be focused on solving a real customer problem or\n",
      "meaningfully improving a customer experience. Companies can get off track prioritizing technology because\n",
      "they’re excited about the technology. Great startups are on a mission to change what’s possible for customers.\n",
      "Second, we have a disproportionate need for builders. These are inventors. They’re people constantly\n",
      "dissecting customer experiences, even ones that seem pretty good today, and asking why they can’t be better.\n",
      "They’re divinely discontent (maybe annoyingly so for team members proud of what they’ve previously\n",
      "built), and never feel like the job is done.\n",
      "Third, we want owners. One of the strengths of Amazon over the first 30 years is that we’ve hired really\n",
      "smart, motivated, inventive, ambitious people who have been great owners. And, that means that our\n",
      "teammates are constantly asking themselves, “What would I do if this was my own money?” “What would I\n",
      "do if I started this company and I was the majority owner?” “Hey, I know I’ve only been asked to own a\n",
      "part of this project, but I’m not sure if the other parts are being driven well—should I stick my nose into this\n",
      "and make sure or just trust somebody’s got it?” Owners feel accountable. They care deeply about the\n",
      "quality and effectiveness of what they own, and view the company’s mission as their mission (we want\n",
      "missionaries, not mercenaries). That’s part of what our effort to increase the ratio of individual contributors\n",
      "versus managers is about. We want flatter organizations where our owners doing the work feel like they page_content='hard questions about which customers will use this capability, what they’ll like most, what they’ll be most\n",
      "disappointed with, why are we drawing the launch line where we are, why is it better than current alternatives,\n",
      "how should we think about pricing, what pricing dimensions we recommend, and why have we made the\n",
      "architectural decisions we have. The Press Release and FAQ are how we work backwards from customers, and\n",
      "how we push ourselves to ask questions customers would if they were in these meetings.\n",
      "Be together whenever possible. There are many paths that can lead to breakthrough innovation. Occasionally,\n",
      "a lone genius comes up with a brilliant idea, and everyone else simply executes it. While that can work, it’s\n",
      "not how we typically operate. Amazon invention is deeply collaborative. It starts with a seed of an idea, then\n",
      "a group of smart, mission-driven people refine, challenge, and build on it together. And, we’ve found that\n",
      "this process is far more effective in person than remote. Of course, you can invent with everybody remote (and\n",
      "some cultures seem to prefer that). However, in my experience, it doesn’t compare to being in the same\n",
      "room. The energy, the pace, the spontaneous brainstorming, the willingness for people to jump in, the way\n",
      "ideas evolve in real time, and the post-meeting iteration is much better when in the same room—and yields\n",
      "better outcomes for our customers and teams. With what’s happening in AI right now, and the likelihood\n",
      "that every customer experience we’ve ever known will be reinvented, there has never been a more important\n",
      "time, in my opinion, to optimize to invent well.\n",
      "Tolerating messy meetings. It’s hard to “schedule” innovation. Y ou can’t book 60 minutes to invent Amazon\n",
      "Prime, or AWS, or Alexa+, or Fulfillment by Amazon, or Regionalization in our Fulfillment Network, or\n",
      "Project Kuiper. These inventions are borne out of somebody asking why we can’t change what’s possible for\n",
      "customers, and then they take on a life of their own, often meandering down multiple dead ends before\n",
      "getting to a final destination. This might bother some regimented folks. But, when we’re inventing, we accept\n",
      "the process being beautifully imperfect.\n",
      "Operate like a startup (in our case, the world’s largest startup).We strive to operate like the world’s largest\n",
      "startup. What does that mean?\n",
      "First, whatever we’re contemplating building has to be focused on solving a real customer problem or\n",
      "meaningfully improving a customer experience. Companies can get off track prioritizing technology because\n",
      "they’re excited about the technology. Great startups are on a mission to change what’s possible for customers.\n",
      "Second, we have a disproportionate need for builders. These are inventors. They’re people constantly\n",
      "dissecting customer experiences, even ones that seem pretty good today, and asking why they can’t be better.\n",
      "They’re divinely discontent (maybe annoyingly so for team members proud of what they’ve previously\n",
      "built), and never feel like the job is done.\n",
      "Third, we want owners. One of the strengths of Amazon over the first 30 years is that we’ve hired really\n",
      "smart, motivated, inventive, ambitious people who have been great owners. And, that means that our\n",
      "teammates are constantly asking themselves, “What would I do if this was my own money?” “What would I\n",
      "do if I started this company and I was the majority owner?” “Hey, I know I’ve only been asked to own a\n",
      "part of this project, but I’m not sure if the other parts are being driven well—should I stick my nose into this\n",
      "and make sure or just trust somebody’s got it?” Owners feel accountable. They care deeply about the\n",
      "quality and effectiveness of what they own, and view the company’s mission as their mission (we want\n",
      "missionaries, not mercenaries). That’s part of what our effort to increase the ratio of individual contributors\n",
      "versus managers is about. We want flatter organizations where our owners doing the work feel like they' metadata={'producer': 'Adobe PDF Library 15.0', 'creator': 'Adobe InDesign 15.0 (Macintosh)', 'creationdate': '2022-02-14T21:08:55-06:00', 'author': 'T&C Composition', 'gts_pdfxconformance': 'PDF/X-1a:2001', 'gts_pdfxversion': 'PDF/X-1:2001', 'keywords': '25-4123-1_2', 'moddate': '2025-04-09T12:45:58-07:00', 'subject': 'Annual Report', 'title': 'Amazon.com, Inc.', 'trapped': '/False', 'source': '/Users/reejungkim/Documents/Git/HuggingFace/Amazon-2024-Annual-Report.pdf', 'total_pages': 91, 'page': 4, 'page_label': '5'}\n",
      "versus managers is about. We want flatter organizations where our owners doing the work feel like they\n",
      "own the two-way door decisions (which are the vast majority), can move rapidly, and are fully accountable\n",
      "for solving the Whys of their customer experiences.\n",
      "Fourth, speed disproportionately matters for every business, in every industry, at all times. It’s a false binary\n",
      "to argue that you can move fast or deliver high standards. If you want to be fast, you can be fast, and still\n",
      "be high quality. We’ve done it for many years (though we can still be faster). Speed is a leadership decision.\n",
      "The leadership team has to believe it’s a priority, reinforce it constantly, organize and remove structural\n",
      "barriers, and build in modular ways that enable pace. But, speed does not happen unless the entire company\n",
      "and culture embrace it. We have this persistent feeling, throughout the company and in every business in\n",
      "which we operate, that there are closing windows all around us. We operate in fiercely competitive market\n",
      "segments, with highly talented, well-funded, ambitious companies at every turn. Customers are always looking page_content='versus managers is about. We want flatter organizations where our owners doing the work feel like they\n",
      "own the two-way door decisions (which are the vast majority), can move rapidly, and are fully accountable\n",
      "for solving the Whys of their customer experiences.\n",
      "Fourth, speed disproportionately matters for every business, in every industry, at all times. It’s a false binary\n",
      "to argue that you can move fast or deliver high standards. If you want to be fast, you can be fast, and still\n",
      "be high quality. We’ve done it for many years (though we can still be faster). Speed is a leadership decision.\n",
      "The leadership team has to believe it’s a priority, reinforce it constantly, organize and remove structural\n",
      "barriers, and build in modular ways that enable pace. But, speed does not happen unless the entire company\n",
      "and culture embrace it. We have this persistent feeling, throughout the company and in every business in\n",
      "which we operate, that there are closing windows all around us. We operate in fiercely competitive market\n",
      "segments, with highly talented, well-funded, ambitious companies at every turn. Customers are always looking' metadata={'producer': 'Adobe PDF Library 15.0', 'creator': 'Adobe InDesign 15.0 (Macintosh)', 'creationdate': '2022-02-14T21:08:55-06:00', 'author': 'T&C Composition', 'gts_pdfxconformance': 'PDF/X-1a:2001', 'gts_pdfxversion': 'PDF/X-1:2001', 'keywords': '25-4123-1_2', 'moddate': '2025-04-09T12:45:58-07:00', 'subject': 'Annual Report', 'title': 'Amazon.com, Inc.', 'trapped': '/False', 'source': '/Users/reejungkim/Documents/Git/HuggingFace/Amazon-2024-Annual-Report.pdf', 'total_pages': 91, 'page': 4, 'page_label': '5'}\n",
      "for something better. We spend a lot of time identifying how to unlock these experiences for them as\n",
      "quickly as possible, and know if we don’t, somebody else will.\n",
      "Another way to gain speed is to eliminate bureaucracy. There is a difference between process and bureaucracy.\n",
      "When you’re running something at scale, you need mechanisms to deliver the right experience and constant\n",
      "improvement for customers. However, as companies grow and add more managers, unneeded processes get\n",
      "layered on that add little value. Last fall, I asked teammates across the company to send me bureaucracy\n",
      "examples that they were experiencing. I’ve received almost 1,000 of these emails, and read every single one.\n",
      "Builders hate bureaucracy. It slows them down, frustrates them, and keeps them from doing what they came\n",
      "here to do. As leaders, we don’t always see the red tape buried deep in our organizations, but we can sure\n",
      "as heck eliminate it when we do. We’ve already made over 375 changes based on this feedback. We need to\n",
      "move fast, and we are committed to rooting out bureaucracy that ties up time and dispirits our teammates.\n",
      "Fifth, you have to be scrappy. As businesses succeed and get larger, they sometimes forget how things got\n",
      "started. We built Amazon Simple Storage Service (S3) with 13 people; Amazon Elastic Compute Cloud\n",
      "(EC2) with 11 people. Managers can confuse themselves that the way to grow and get ahead is to accumulate\n",
      "large teams. Historically, we’ve had periods where we’ve allowed this thinking to hold sway. But, it’s not the\n",
      "way we fundamentally think about building teams and products, and have adjusted to reflect that again. Our\n",
      "best leaders get the most done with the least number of resources required to do the job. They pride\n",
      "themselves on being lean.\n",
      "Sixth, you have to be willing to take risks. This sounds easier than it is. Y ou need clever enough people to\n",
      "identify worthwhile bets. And if you have these inventive, ambitious builders with high standards, they’re not\n",
      "used to failure. They suspect external (and maybe internal) ridicule awaits them if they try something very\n",
      "different that doesn’t work out. So, people often play it safe. But, you can’t achieve something extraordinary\n",
      "for customers by playing “not to lose.” If your Whys take you down an invention path that delivers an\n",
      "experience that doesn’t look like what’s been done before, let customer obsession be your compass. Y ou rarely,\n",
      "if ever, change the world by doing the same thing as everybody else.\n",
      "And finally, you have to care most about delivering compelling results for customers. It’s not how charismatic\n",
      "you are. It’s not whether you’re really good at managing up or sideways. What matters is what we actually\n",
      "get done for customers. That’s what we want to reward.\n",
      "Next generation Whys\n",
      "While the team and I feel quite optimistic about the progress and potential of our existing businesses, we\n",
      "have plenty of new Whys we’re asking. Below are a few of them and some quick thoughts.\n",
      "Why is AI so important? Will it really have as much impact as some claim and when?\n",
      "Generative AI is going to reinvent virtually every customer experience we know, and enable altogether new\n",
      "ones about which we’ve only fantasized. The early AI workloads being deployed focus on productivity and\n",
      "cost avoidance (e.g. customer service, business process orchestration, workflow, translation, etc.). This is\n",
      "saving companies a lot of money. Increasingly, you’ll see AI change the norms in coding, search, shopping,\n",
      "personal assistants, primary care, cancer and drug research, biology, robotics, space, financial services,\n",
      "neighborhood networks—everything. Some of these areas are already seeing rapid progress; others are still\n",
      "in their infancy. But, if your customer experiences aren’t planning to leverage these intelligent models, their\n",
      "ability to query giant corpuses of data and quickly find your needle in the haystack, their ability to keep page_content='for something better. We spend a lot of time identifying how to unlock these experiences for them as\n",
      "quickly as possible, and know if we don’t, somebody else will.\n",
      "Another way to gain speed is to eliminate bureaucracy. There is a difference between process and bureaucracy.\n",
      "When you’re running something at scale, you need mechanisms to deliver the right experience and constant\n",
      "improvement for customers. However, as companies grow and add more managers, unneeded processes get\n",
      "layered on that add little value. Last fall, I asked teammates across the company to send me bureaucracy\n",
      "examples that they were experiencing. I’ve received almost 1,000 of these emails, and read every single one.\n",
      "Builders hate bureaucracy. It slows them down, frustrates them, and keeps them from doing what they came\n",
      "here to do. As leaders, we don’t always see the red tape buried deep in our organizations, but we can sure\n",
      "as heck eliminate it when we do. We’ve already made over 375 changes based on this feedback. We need to\n",
      "move fast, and we are committed to rooting out bureaucracy that ties up time and dispirits our teammates.\n",
      "Fifth, you have to be scrappy. As businesses succeed and get larger, they sometimes forget how things got\n",
      "started. We built Amazon Simple Storage Service (S3) with 13 people; Amazon Elastic Compute Cloud\n",
      "(EC2) with 11 people. Managers can confuse themselves that the way to grow and get ahead is to accumulate\n",
      "large teams. Historically, we’ve had periods where we’ve allowed this thinking to hold sway. But, it’s not the\n",
      "way we fundamentally think about building teams and products, and have adjusted to reflect that again. Our\n",
      "best leaders get the most done with the least number of resources required to do the job. They pride\n",
      "themselves on being lean.\n",
      "Sixth, you have to be willing to take risks. This sounds easier than it is. Y ou need clever enough people to\n",
      "identify worthwhile bets. And if you have these inventive, ambitious builders with high standards, they’re not\n",
      "used to failure. They suspect external (and maybe internal) ridicule awaits them if they try something very\n",
      "different that doesn’t work out. So, people often play it safe. But, you can’t achieve something extraordinary\n",
      "for customers by playing “not to lose.” If your Whys take you down an invention path that delivers an\n",
      "experience that doesn’t look like what’s been done before, let customer obsession be your compass. Y ou rarely,\n",
      "if ever, change the world by doing the same thing as everybody else.\n",
      "And finally, you have to care most about delivering compelling results for customers. It’s not how charismatic\n",
      "you are. It’s not whether you’re really good at managing up or sideways. What matters is what we actually\n",
      "get done for customers. That’s what we want to reward.\n",
      "Next generation Whys\n",
      "While the team and I feel quite optimistic about the progress and potential of our existing businesses, we\n",
      "have plenty of new Whys we’re asking. Below are a few of them and some quick thoughts.\n",
      "Why is AI so important? Will it really have as much impact as some claim and when?\n",
      "Generative AI is going to reinvent virtually every customer experience we know, and enable altogether new\n",
      "ones about which we’ve only fantasized. The early AI workloads being deployed focus on productivity and\n",
      "cost avoidance (e.g. customer service, business process orchestration, workflow, translation, etc.). This is\n",
      "saving companies a lot of money. Increasingly, you’ll see AI change the norms in coding, search, shopping,\n",
      "personal assistants, primary care, cancer and drug research, biology, robotics, space, financial services,\n",
      "neighborhood networks—everything. Some of these areas are already seeing rapid progress; others are still\n",
      "in their infancy. But, if your customer experiences aren’t planning to leverage these intelligent models, their\n",
      "ability to query giant corpuses of data and quickly find your needle in the haystack, their ability to keep' metadata={'producer': 'Adobe PDF Library 15.0', 'creator': 'Adobe InDesign 15.0 (Macintosh)', 'creationdate': '2022-02-14T21:08:55-06:00', 'author': 'T&C Composition', 'gts_pdfxconformance': 'PDF/X-1a:2001', 'gts_pdfxversion': 'PDF/X-1:2001', 'keywords': '25-4123-1_2', 'moddate': '2025-04-09T12:45:58-07:00', 'subject': 'Annual Report', 'title': 'Amazon.com, Inc.', 'trapped': '/False', 'source': '/Users/reejungkim/Documents/Git/HuggingFace/Amazon-2024-Annual-Report.pdf', 'total_pages': 91, 'page': 5, 'page_label': '6'}\n",
      "ability to query giant corpuses of data and quickly find your needle in the haystack, their ability to keep\n",
      "getting smarter with more feedback and data, and their future agentic capabilities, you will not be competitive.\n",
      "How soon? It won’t all happen in a year or two, but, it won’t take ten either. It’s moving faster than almost\n",
      "anything technology has ever seen. page_content='ability to query giant corpuses of data and quickly find your needle in the haystack, their ability to keep\n",
      "getting smarter with more feedback and data, and their future agentic capabilities, you will not be competitive.\n",
      "How soon? It won’t all happen in a year or two, but, it won’t take ten either. It’s moving faster than almost\n",
      "anything technology has ever seen.' metadata={'producer': 'Adobe PDF Library 15.0', 'creator': 'Adobe InDesign 15.0 (Macintosh)', 'creationdate': '2022-02-14T21:08:55-06:00', 'author': 'T&C Composition', 'gts_pdfxconformance': 'PDF/X-1a:2001', 'gts_pdfxversion': 'PDF/X-1:2001', 'keywords': '25-4123-1_2', 'moddate': '2025-04-09T12:45:58-07:00', 'subject': 'Annual Report', 'title': 'Amazon.com, Inc.', 'trapped': '/False', 'source': '/Users/reejungkim/Documents/Git/HuggingFace/Amazon-2024-Annual-Report.pdf', 'total_pages': 91, 'page': 5, 'page_label': '6'}\n",
      "OK, I buy AI is big; but why invest this much this quickly?\n",
      "Fundamentally, if your mission is to make customers’ lives better and easier every day, and you believe every\n",
      "customer experience will be reinvented by AI, you’re going to invest deeply and broadly in AI. That’s why\n",
      "there are more than 1,000 GenAI applications being built across Amazon, aiming to meaningfully change\n",
      "customer experiences in shopping, coding, personal assistants, streaming video and music, advertising,\n",
      "healthcare, reading, and home devices, to name a few. It’s also why AWS is quickly developing the key\n",
      "primitives (or building blocks) for AI development, such as custom silicon AI chips in Amazon Trainium to\n",
      "provide better price-performance on training and inference, highly flexible model-building and inference\n",
      "services in Amazon SageMaker and Amazon Bedrock, our own frontier models in Amazon Nova to provide\n",
      "lower cost and latency for customers’ applications, and agent creation and management capabilities.\n",
      "There is also substantial capital investment required. In AWS, the faster demand grows, the more datacenters,\n",
      "chips, and hardware we need to procure (and AI chips are much more expensive than CPU chips). We\n",
      "spend this capital upfront, even though these assets are useful for many years (in the case of datacenters, for\n",
      "at least 15-20 years). We only start monetizing this capital investment many months after we spend the\n",
      "capital, and over many years—which leads to attractive long-term FCF and ROIC (as people have seen in\n",
      "AWS over the last several years). But in periods, like now, of unusually high demand (our AI revenue is\n",
      "growing at triple digit Y oY percentages and represents a multi-billion-dollar annual revenue run rate), you’re\n",
      "deploying a lot of capital. We continue to believe AI is a once-in-a-lifetime reinvention of everything we\n",
      "know, the demand is unlike anything we’ve seen before, and our customers, shareholders, and business will\n",
      "be well-served by our investing aggressively now.\n",
      "Why do chips and AI have to be this expensive for customers?\n",
      "AI does not have to be as expensive as it is today, and it won’t be in the future. Chips are the biggest culprit.\n",
      "Most AI to date has been built on one chip provider. It’s pricey. Trainium should help, as our new Trainium2\n",
      "chips offer 30-40% better price-performance than the current GPU-powered compute instances generally\n",
      "available today. While model training still accounts for a large amount of the total AI spend, inference\n",
      "(which are the predictions or outputs of the models) will represent the overwhelming majority of future AI\n",
      "cost because customers train their models periodically, but produce inferences constantly in large-scale AI\n",
      "applications. Inference will become another building block service, along with compute, storage, database,\n",
      "and others. We feel strong urgency to make inference less expensive for customers. More price-performant\n",
      "chips will help. But, inference will also get meaningfully more efficient in the next couple of years with\n",
      "improvements in model distillation, prompt caching, computing infrastructure, and model architectures.\n",
      "Reducing the cost per unit in AI will unleash AI being used as expansively as customers desire, and also lead\n",
      "to more overall AI spending. It’s like what happened with AWS. Revolutionizing the cost of compute and\n",
      "storage happily led to lower cost per unit, and more invention, better customer experiences, and more absolute\n",
      "infrastructure spend.\n",
      "Why have personal assistants not yet taken off? How can Alexa help?\n",
      "A great personal assistant can answer virtually any question and get things done on your behalf. There have\n",
      "been no digital solutions that can do both yet. That is, until Alexa+ arrived. Alexa+ is not only comparably\n",
      "intelligent to the leading chatbots, but can take a plethora of real actions for you. She can play music, play\n",
      "video, move media from one of your devices to another, set alarms and timers, control your smart home, page_content='OK, I buy AI is big; but why invest this much this quickly?\n",
      "Fundamentally, if your mission is to make customers’ lives better and easier every day, and you believe every\n",
      "customer experience will be reinvented by AI, you’re going to invest deeply and broadly in AI. That’s why\n",
      "there are more than 1,000 GenAI applications being built across Amazon, aiming to meaningfully change\n",
      "customer experiences in shopping, coding, personal assistants, streaming video and music, advertising,\n",
      "healthcare, reading, and home devices, to name a few. It’s also why AWS is quickly developing the key\n",
      "primitives (or building blocks) for AI development, such as custom silicon AI chips in Amazon Trainium to\n",
      "provide better price-performance on training and inference, highly flexible model-building and inference\n",
      "services in Amazon SageMaker and Amazon Bedrock, our own frontier models in Amazon Nova to provide\n",
      "lower cost and latency for customers’ applications, and agent creation and management capabilities.\n",
      "There is also substantial capital investment required. In AWS, the faster demand grows, the more datacenters,\n",
      "chips, and hardware we need to procure (and AI chips are much more expensive than CPU chips). We\n",
      "spend this capital upfront, even though these assets are useful for many years (in the case of datacenters, for\n",
      "at least 15-20 years). We only start monetizing this capital investment many months after we spend the\n",
      "capital, and over many years—which leads to attractive long-term FCF and ROIC (as people have seen in\n",
      "AWS over the last several years). But in periods, like now, of unusually high demand (our AI revenue is\n",
      "growing at triple digit Y oY percentages and represents a multi-billion-dollar annual revenue run rate), you’re\n",
      "deploying a lot of capital. We continue to believe AI is a once-in-a-lifetime reinvention of everything we\n",
      "know, the demand is unlike anything we’ve seen before, and our customers, shareholders, and business will\n",
      "be well-served by our investing aggressively now.\n",
      "Why do chips and AI have to be this expensive for customers?\n",
      "AI does not have to be as expensive as it is today, and it won’t be in the future. Chips are the biggest culprit.\n",
      "Most AI to date has been built on one chip provider. It’s pricey. Trainium should help, as our new Trainium2\n",
      "chips offer 30-40% better price-performance than the current GPU-powered compute instances generally\n",
      "available today. While model training still accounts for a large amount of the total AI spend, inference\n",
      "(which are the predictions or outputs of the models) will represent the overwhelming majority of future AI\n",
      "cost because customers train their models periodically, but produce inferences constantly in large-scale AI\n",
      "applications. Inference will become another building block service, along with compute, storage, database,\n",
      "and others. We feel strong urgency to make inference less expensive for customers. More price-performant\n",
      "chips will help. But, inference will also get meaningfully more efficient in the next couple of years with\n",
      "improvements in model distillation, prompt caching, computing infrastructure, and model architectures.\n",
      "Reducing the cost per unit in AI will unleash AI being used as expansively as customers desire, and also lead\n",
      "to more overall AI spending. It’s like what happened with AWS. Revolutionizing the cost of compute and\n",
      "storage happily led to lower cost per unit, and more invention, better customer experiences, and more absolute\n",
      "infrastructure spend.\n",
      "Why have personal assistants not yet taken off? How can Alexa help?\n",
      "A great personal assistant can answer virtually any question and get things done on your behalf. There have\n",
      "been no digital solutions that can do both yet. That is, until Alexa+ arrived. Alexa+ is not only comparably\n",
      "intelligent to the leading chatbots, but can take a plethora of real actions for you. She can play music, play\n",
      "video, move media from one of your devices to another, set alarms and timers, control your smart home,' metadata={'producer': 'Adobe PDF Library 15.0', 'creator': 'Adobe InDesign 15.0 (Macintosh)', 'creationdate': '2022-02-14T21:08:55-06:00', 'author': 'T&C Composition', 'gts_pdfxconformance': 'PDF/X-1a:2001', 'gts_pdfxversion': 'PDF/X-1:2001', 'keywords': '25-4123-1_2', 'moddate': '2025-04-09T12:45:58-07:00', 'subject': 'Annual Report', 'title': 'Amazon.com, Inc.', 'trapped': '/False', 'source': '/Users/reejungkim/Documents/Git/HuggingFace/Amazon-2024-Annual-Report.pdf', 'total_pages': 91, 'page': 6, 'page_label': '7'}\n"
     ]
    }
   ],
   "source": [
    "for page in pages[5:10]:\n",
    "    print(page.page_content, page)"
   ]
  },
  {
   "cell_type": "markdown",
   "id": "24e63beb",
   "metadata": {},
   "source": [
    "### `2. Text splitter`\n",
    "\n",
    "chunk_size 적절한 크기(보통 500~1000자)는 의미 있는 문맥 단위로 자르면서도 내용이 분산되지 않게 합니다. \n",
    "\n",
    "chunk_overlap은 텍스트를 쪼개는 과정에서 텍스트의 겹치는 부분을 얼마나 허용할 것인지를 결정합니다. 중요한 단어나 문장이 chunk 경계에 걸쳐 잘릴 수 있음.\n",
    "\n",
    "- `chunk_size ↓`: semantic sparsity (의미 희박)  \n",
    "- `chunk_size ↑`: semantic drift (의미 혼합, 벡터 불명확)  \n",
    "- `chunk_overlap`: 문맥 연속성과 정보 손실 방지 역할\n"
   ]
  },
  {
   "cell_type": "code",
   "execution_count": 175,
   "id": "a51a7e3b",
   "metadata": {},
   "outputs": [],
   "source": [
    "from langchain_text_splitters import CharacterTextSplitter, RecursiveCharacterTextSplitter\n",
    "text_splitter = RecursiveCharacterTextSplitter(chunk_size=1000, chunk_overlap=200)   \n",
    "texts = text_splitter.split_documents(docs)"
   ]
  },
  {
   "cell_type": "markdown",
   "id": "2539892c",
   "metadata": {},
   "source": [
    "### `3. Embedding` "
   ]
  },
  {
   "cell_type": "code",
   "execution_count": null,
   "id": "35eab0d2",
   "metadata": {},
   "outputs": [],
   "source": [
    "from langchain_huggingface import HuggingFaceEmbeddings\n",
    "\n",
    "embedding_huggingface = HuggingFaceEmbeddings(model_name='jhgan/ko-sroberta-multitask'\n",
    "                                          , model_kwargs = {'device':'cpu'}\n",
    "                                          , encode_kwargs = {'normalize_embeddings':True})"
   ]
  },
  {
   "cell_type": "markdown",
   "id": "4749c835",
   "metadata": {},
   "source": [
    "### `4. Vector Store` "
   ]
  },
  {
   "cell_type": "markdown",
   "id": "29e85df6",
   "metadata": {},
   "source": [
    "# cleanup\n",
    "vectorstore.delete_collection()"
   ]
  },
  {
   "cell_type": "code",
   "execution_count": 177,
   "id": "da0bf201",
   "metadata": {},
   "outputs": [],
   "source": [
    "from langchain_community.vectorstores import FAISS\n",
    "\n",
    "vectorstore = FAISS.from_documents(texts, \n",
    "                                   embedding_huggingface)"
   ]
  },
  {
   "cell_type": "code",
   "execution_count": 178,
   "id": "836c0149",
   "metadata": {},
   "outputs": [
    {
     "name": "stdout",
     "output_type": "stream",
     "text": [
      "cash provided by (used in) operating activities,” for 2023 and 2024 (in millions):\n",
      " Year Ended December 31,\n",
      " 2023 2024\n",
      "Net cash provided by (used in) operating activities $ 84,946 $ 115,877 \n",
      "Purchases of property and equipment, net of proceeds from sales and incentives  (48,133)  (77,658) \n",
      "Free cash flow $ 36,813 $ 38,219 \n",
      "Net cash provided by (used in) investing activities $ (49,833) $ (94,342) \n",
      "Net cash provided by (used in) financing activities $ (15,879) $ (11,812) \n",
      "Free Cash Flow Less Principal Repayments of Finance Leases and Financing Obligations\n",
      "Free cash flow less principal repayments of finance leases and financing obligations is free cash flow reduced by \n",
      "“Principal repayments of finance leases” and “Principal repayments of financing obligations.” Principal repayments of finance \n",
      "leases and financing obligations approximates the actual payments of cash for our finance leases and financing obligations. The\n",
      "those assets included in “Property and equipment, net” as of December 31, 2024, whose useful life will change from six years \n",
      "to five years, we anticipate a decrease in 2025 operating income of approximately $0.7 billion. We expect to continue to acquire \n",
      "more of these server and networking assets in 2025. In 2024, we also determined, primarily in the fourth quarter, to retire early \n",
      "certain of our servers and networking equipment. We recorded approximately $920 million of accelerated depreciation and \n",
      "related charges for the quarter ended December 31, 2024 related to these decisions. The accelerated depreciation will continue \n",
      "into 2025 and decrease operating income by approximately $0.6 billion in 2025. These two changes above are due to an \n",
      "increased pace of technology development, particularly in the area of artificial intelligence and machine learning.\n",
      "We had previously increased the useful life of our servers from five years to six years effective January 1, 2024. The\n",
      "currency balances include British Pounds, Canadian Dollars, Euros, Indian Rupees, and Japanese Yen. \n",
      "Cash provided by (used in) operating activities was $84.9 billion and $115.9 billion in 2023 and 2024. Our operating cash \n",
      "flows result primarily from cash received from our consumer, seller, developer, enterprise, and content creator customers, and \n",
      "advertisers, offset by cash payments we make for products and services, employee compensation, payment processing and \n",
      "related transaction costs, operating leases, and interest payments. Cash received from our customers and other activities \n",
      "generally corresponds to our net sales. The increase in operating cash flow in 2024, compared to the prior year, was due to an \n",
      "increase in net income (loss), excluding non-cash expenses, and changes in working capital. Working capital at any specific \n",
      "point in time is subject to many variables, including variability in demand, inventory management and category expansion, the\n",
      "General and Administrative\n",
      "The decrease in general and administrative costs in 2024, compared to the prior year, is primarily due to a decrease in \n",
      "payroll and related expenses.\n",
      "Other Operating Expense (Income), Net\n",
      "Other operating expense (income), net was $767 million and $763 million during 2023 and 2024, and was primarily \n",
      "related to asset impairments and the amortization of intangible assets.\n",
      "Operating Income (Loss) \n",
      "Operating income (loss) by segment is as follows (in millions):\n",
      "Year Ended December 31,\n",
      "2023 2024\n",
      "Operating Income (Loss)\n",
      "North America $ 14,877 $ 24,967 \n",
      "International  (2,656)  3,792 \n",
      "AWS  24,631  39,834 \n",
      "Consolidated $ 36,852 $ 68,593 \n",
      "Operating income was $36.9 billion and $68.6 billion for 2023 and 2024. We believe that operating income is a more \n",
      "meaningful measure than gross profit and gross margin due to the diversity of our product categories and services. For more\n"
     ]
    }
   ],
   "source": [
    "results = vectorstore.similarity_search(\"How much of the cash used in Operating activities in the year of 2024?, k=5\")\n",
    "#answer: $ 115,877\n",
    "\n",
    "for r in results:\n",
    "    print(r.page_content)"
   ]
  },
  {
   "cell_type": "markdown",
   "id": "e4596b79",
   "metadata": {},
   "source": [
    "# 문서 저장소 ID 확인\n",
    "vectorstore.index_to_docstore_id\n"
   ]
  },
  {
   "cell_type": "markdown",
   "id": "138d0a0d",
   "metadata": {},
   "source": [
    "# 저장된 문서의 ID: Document 확인\n",
    "vectorstore.docstore._dict"
   ]
  },
  {
   "cell_type": "markdown",
   "id": "d0114a62",
   "metadata": {},
   "source": [
    "### `5. Retriever - RAG`\n",
    "Retriever: 문서에 포함되어 있는 정보를 검색하고 생성\n",
    "\n",
    "- `Sparse Retriever `\n",
    "    - TF-IDF 또는 BM25와 같은 전통적 정보검색 기법\n",
    "    - 키워드 선택이 검색 품질을 좌우 (간단하고 명확한 키워드 검색에 유리)\n",
    "\n",
    "\n",
    "- `Dense Retriever `\n",
    "    - vector간의 거리 (ex.cosine similarity)\n",
    "    - 키워드가 일치 하지 않아도 의미적으로 관련(뉘앙스와 문맥 일치) 문서 검색\n",
    "    - 복잡한 쿼리 유리"
   ]
  },
  {
   "cell_type": "code",
   "execution_count": 179,
   "id": "60de8eb6",
   "metadata": {},
   "outputs": [],
   "source": [
    "# sparse retriever\n",
    "from langchain_community.retrievers import BM25Retriever\n",
    "bm25_retriever = BM25Retriever.from_documents(texts)\n",
    "bm25_retriever.k = 4 # set number of documents to retrieve \n",
    "\n",
    "#dense retriever\n",
    "faiss_retriever = vectorstore.as_retriever()"
   ]
  },
  {
   "cell_type": "code",
   "execution_count": 180,
   "id": "0189512f",
   "metadata": {},
   "outputs": [
    {
     "data": {
      "text/plain": [
       "[Document(id='aaecac95-f48c-4b1f-92a2-b6d30bec0b72', metadata={'producer': 'Adobe PDF Library 15.0', 'creator': 'Adobe InDesign 15.0 (Macintosh)', 'creationdate': '2022-02-14T21:08:55-06:00', 'author': 'T&C Composition', 'gts_pdfxconformance': 'PDF/X-1a:2001', 'gts_pdfxversion': 'PDF/X-1:2001', 'keywords': '25-4123-1_2', 'moddate': '2025-04-09T12:45:58-07:00', 'subject': 'Annual Report', 'title': 'Amazon.com, Inc.', 'trapped': '/False', 'source': '/Users/reejungkim/Documents/Git/HuggingFace/Amazon-2024-Annual-Report.pdf', 'total_pages': 91, 'page': 39, 'page_label': '40'}, page_content='cash provided by (used in) operating activities,” for 2023 and 2024 (in millions):\\n Year Ended December 31,\\n 2023 2024\\nNet cash provided by (used in) operating activities $ 84,946 $ 115,877 \\nPurchases of property and equipment, net of proceeds from sales and incentives  (48,133)  (77,658) \\nFree cash flow $ 36,813 $ 38,219 \\nNet cash provided by (used in) investing activities $ (49,833) $ (94,342) \\nNet cash provided by (used in) financing activities $ (15,879) $ (11,812) \\nFree Cash Flow Less Principal Repayments of Finance Leases and Financing Obligations\\nFree cash flow less principal repayments of finance leases and financing obligations is free cash flow reduced by \\n“Principal repayments of finance leases” and “Principal repayments of financing obligations.” Principal repayments of finance \\nleases and financing obligations approximates the actual payments of cash for our finance leases and financing obligations. The'),\n",
       " Document(id='27597b7d-84b4-48ff-9807-1b1878c0818e', metadata={'producer': 'Adobe PDF Library 15.0', 'creator': 'Adobe InDesign 15.0 (Macintosh)', 'creationdate': '2022-02-14T21:08:55-06:00', 'author': 'T&C Composition', 'gts_pdfxconformance': 'PDF/X-1a:2001', 'gts_pdfxversion': 'PDF/X-1:2001', 'keywords': '25-4123-1_2', 'moddate': '2025-04-09T12:45:58-07:00', 'subject': 'Annual Report', 'title': 'Amazon.com, Inc.', 'trapped': '/False', 'source': '/Users/reejungkim/Documents/Git/HuggingFace/Amazon-2024-Annual-Report.pdf', 'total_pages': 91, 'page': 52, 'page_label': '53'}, page_content='those assets included in “Property and equipment, net” as of December 31, 2024, whose useful life will change from six years \\nto five years, we anticipate a decrease in 2025 operating income of approximately $0.7 billion. We expect to continue to acquire \\nmore of these server and networking assets in 2025. In 2024, we also determined, primarily in the fourth quarter, to retire early \\ncertain of our servers and networking equipment. We recorded approximately $920 million of accelerated depreciation and \\nrelated charges for the quarter ended December 31, 2024 related to these decisions. The accelerated depreciation will continue \\ninto 2025 and decrease operating income by approximately $0.6 billion in 2025. These two changes above are due to an \\nincreased pace of technology development, particularly in the area of artificial intelligence and machine learning.\\nWe had previously increased the useful life of our servers from five years to six years effective January 1, 2024. The'),\n",
       " Document(id='b3bbba49-75e2-49b6-adec-072f05692198', metadata={'producer': 'Adobe PDF Library 15.0', 'creator': 'Adobe InDesign 15.0 (Macintosh)', 'creationdate': '2022-02-14T21:08:55-06:00', 'author': 'T&C Composition', 'gts_pdfxconformance': 'PDF/X-1a:2001', 'gts_pdfxversion': 'PDF/X-1:2001', 'keywords': '25-4123-1_2', 'moddate': '2025-04-09T12:45:58-07:00', 'subject': 'Annual Report', 'title': 'Amazon.com, Inc.', 'trapped': '/False', 'source': '/Users/reejungkim/Documents/Git/HuggingFace/Amazon-2024-Annual-Report.pdf', 'total_pages': 91, 'page': 38, 'page_label': '39'}, page_content='General and Administrative\\nThe decrease in general and administrative costs in 2024, compared to the prior year, is primarily due to a decrease in \\npayroll and related expenses.\\nOther Operating Expense (Income), Net\\nOther operating expense (income), net was $767 million and $763 million during 2023 and 2024, and was primarily \\nrelated to asset impairments and the amortization of intangible assets.\\nOperating Income (Loss) \\nOperating income (loss) by segment is as follows (in millions):\\nYear Ended December 31,\\n2023 2024\\nOperating Income (Loss)\\nNorth America $ 14,877 $ 24,967 \\nInternational  (2,656)  3,792 \\nAWS  24,631  39,834 \\nConsolidated $ 36,852 $ 68,593 \\nOperating income was $36.9 billion and $68.6 billion for 2023 and 2024. We believe that operating income is a more \\nmeaningful measure than gross profit and gross margin due to the diversity of our product categories and services. For more'),\n",
       " Document(id='67e0819a-9810-4626-831f-8157affe6a89', metadata={'producer': 'Adobe PDF Library 15.0', 'creator': 'Adobe InDesign 15.0 (Macintosh)', 'creationdate': '2022-02-14T21:08:55-06:00', 'author': 'T&C Composition', 'gts_pdfxconformance': 'PDF/X-1a:2001', 'gts_pdfxversion': 'PDF/X-1:2001', 'keywords': '25-4123-1_2', 'moddate': '2025-04-09T12:45:58-07:00', 'subject': 'Annual Report', 'title': 'Amazon.com, Inc.', 'trapped': '/False', 'source': '/Users/reejungkim/Documents/Git/HuggingFace/Amazon-2024-Annual-Report.pdf', 'total_pages': 91, 'page': 33, 'page_label': '34'}, page_content='currency balances include British Pounds, Canadian Dollars, Euros, Indian Rupees, and Japanese Yen. \\nCash provided by (used in) operating activities was $84.9 billion and $115.9 billion in 2023 and 2024. Our operating cash \\nflows result primarily from cash received from our consumer, seller, developer, enterprise, and content creator customers, and \\nadvertisers, offset by cash payments we make for products and services, employee compensation, payment processing and \\nrelated transaction costs, operating leases, and interest payments. Cash received from our customers and other activities \\ngenerally corresponds to our net sales. The increase in operating cash flow in 2024, compared to the prior year, was due to an \\nincrease in net income (loss), excluding non-cash expenses, and changes in working capital. Working capital at any specific \\npoint in time is subject to many variables, including variability in demand, inventory management and category expansion, the')]"
      ]
     },
     "execution_count": 180,
     "metadata": {},
     "output_type": "execute_result"
    }
   ],
   "source": [
    "# 검색기에 쿼리를 날려 검색된 chunk 결과를 확인합니다.\n",
    "faiss_retriever.invoke(\"How much of the cash used in Operating activities in the year of 2024?\")\n"
   ]
  },
  {
   "cell_type": "markdown",
   "id": "6b2e1010",
   "metadata": {},
   "source": [
    "### `6. Prompt Template `\n",
    "프롬트를 직접 쓸수도 있고, 이미 써져있는 템플릿을 사용할 수도 있다. "
   ]
  },
  {
   "cell_type": "code",
   "execution_count": 181,
   "id": "83c039ac",
   "metadata": {},
   "outputs": [],
   "source": [
    "from langchain_core.prompts import PromptTemplate\n",
    "from langchain.prompts import PromptTemplate\n",
    "\n",
    "template = \"\"\"<|system|>\n",
    "You are an assistant for question-answering tasks. \n",
    "Using the information contained in the context,\n",
    "give a comprehensive answer to the question.\n",
    "Respond only to the question asked, response should be concise and relevant to the question.\n",
    "Provide the number of the source document when relevant.\n",
    "If you don't know the answer, just say that you don't know. \n",
    "Answer in Korean. <|end|>\n",
    "\n",
    "<|user|>\n",
    "{question}<|end|>\n",
    "<|assistant|>\"\"\"\n",
    "\n",
    "prompt = PromptTemplate.from_template(template)"
   ]
  },
  {
   "cell_type": "code",
   "execution_count": 182,
   "id": "94e98c0d",
   "metadata": {
    "tags": [
     "parameters"
    ]
   },
   "outputs": [
    {
     "name": "stdout",
     "output_type": "stream",
     "text": [
      "input_variables=['context', 'question'] input_types={} partial_variables={} metadata={'lc_hub_owner': 'rlm', 'lc_hub_repo': 'rag-prompt', 'lc_hub_commit_hash': '50442af133e61576e74536c6556cefe1fac147cad032f4377b60c436e6cdcb6e'} messages=[HumanMessagePromptTemplate(prompt=PromptTemplate(input_variables=['context', 'question'], input_types={}, partial_variables={}, template=\"You are an assistant for question-answering tasks. Use the following pieces of retrieved context to answer the question. If you don't know the answer, just say that you don't know. Use three sentences maximum and keep the answer concise.\\nQuestion: {question} \\nContext: {context} \\nAnswer:\"), additional_kwargs={})]\n"
     ]
    }
   ],
   "source": [
    "# langchain hub에서 더 정교한 프롬프트를 불러옵니다.\n",
    "# https://smith.langchain.com/hub/rlm/rag-prompt\n",
    "# # https://smith.langchain.com/hub 에서 원하는 prompt를 받아올 수 있습니다.\n",
    "\n",
    "from langchain import hub\n",
    "\n",
    "# 프롬프트를 가져오기 위해 API 키 설정\n",
    "os.environ[\"LANGSMITH_API_KEY\"] = os.getenv(\"LANGSMITH_API_KEY\")\n",
    "\n",
    "# 고급 프롬프트 가져오기 (더 정교한 지시를 포함)\n",
    "prompt = hub.pull(\"rlm/rag-prompt\")\n",
    "\n",
    "print(prompt)"
   ]
  },
  {
   "cell_type": "markdown",
   "id": "31fe3826",
   "metadata": {},
   "source": [
    "### `7. LLM`"
   ]
  },
  {
   "cell_type": "markdown",
   "id": "89a4e0ff",
   "metadata": {},
   "source": [
    "- 낮은 Temperature (0.1 ~ 0.3)\n",
    "\n",
    "    - 더 예측 가능하고 일관된 출력\n",
    "    - 가장 확률이 높은 단어들을 선택하는 경향\n",
    "    - 반복적이고 보수적인 응답\n",
    "    - 사실적 정보나 정확한 답변이 필요할 때 적합\n",
    "\n",
    "- 중간 Temperature (0.7 ~ 1.0)\n",
    "\n",
    "    - 균형잡힌 창의성과 일관성\n",
    "    - 일반적인 대화나 글쓰기에 적합\n",
    "    - HuggingFace 기본값은 보통 1.0\n",
    "\n",
    "- 높은 Temperature (1.5 ~ 2.0)\n",
    "\n",
    "    - 매우 창의적이고 예측 불가능한 출력\n",
    "    - 무작위성이 크게 증가\n",
    "    - 때로는 일관성이 떨어지거나 말이 안 될 수 있음\n",
    "    - 창작 활동이나 브레인스토밍에 유용"
   ]
  },
  {
   "cell_type": "code",
   "execution_count": 183,
   "id": "1a03b358",
   "metadata": {},
   "outputs": [
    {
     "name": "stdout",
     "output_type": "stream",
     "text": [
      "Hello! I'm just a computer program, so I don't have feelings, but I'm here and ready to help you with anything you need. 😊 How about you? How are you doing today?\n"
     ]
    }
   ],
   "source": [
    "from langchain_huggingface import ChatHuggingFace, HuggingFaceEndpoint\n",
    "\n",
    "# HuggingFaceEndpoint로 LLM 설정\n",
    "endpoint = HuggingFaceEndpoint(\n",
    "    repo_id=\"deepseek-ai/DeepSeek-V3-0324\",\n",
    "    max_new_tokens=512,\n",
    "    temperature=0.7,\n",
    "    huggingfacehub_api_token=os.environ[\"huggingface_read\"],\n",
    "    task=\"conversational\"  # 명시적으로 conversational 태스크 지정\n",
    ")\n",
    "\n",
    "# ChatHuggingFace로 감싸기\n",
    "llm = ChatHuggingFace(llm=endpoint)\n",
    "\n",
    "# 간단 테스트\n",
    "response = llm.invoke(\"Hello, how are you?\")\n",
    "print(response.content)  # 예상 출력: Hello! 😊 How can I help you today?"
   ]
  },
  {
   "cell_type": "code",
   "execution_count": null,
   "id": "002e0962",
   "metadata": {},
   "outputs": [],
   "source": [
    "from langchain_community.chat_models import ChatOllama\n",
    "\n",
    "llm = ChatOllama(model=\"llama3.1:8b\",\n",
    "                temperature=0.1,\n",
    "                format='json',\n",
    "                max_tokens=1024)\n",
    "#TEST \n",
    "response = llm.invoke(\"유럽여행지 10곳 알려줘\")\n",
    "print(response.content)\n"
   ]
  },
  {
   "cell_type": "markdown",
   "id": "03c06929",
   "metadata": {},
   "source": [
    "### `8. Chain` "
   ]
  },
  {
   "cell_type": "code",
   "execution_count": 239,
   "id": "d60f3778",
   "metadata": {},
   "outputs": [],
   "source": [
    "from langchain_core.runnables import RunnablePassthrough\n",
    "from langchain_core.output_parsers import StrOutputParser\n",
    "\n",
    "def format_docs(docs):\n",
    "    return \"\\n\\n\".join(doc.page_content for doc in docs)\n",
    "\n",
    "chain = (\n",
    "    {\"context\": faiss_retriever , \"question\": RunnablePassthrough()}  # 문맥을 검색하고 질문은 그대로 전달\n",
    "    | prompt  # 문맥 + 질문 → GPT로 전달될 형태로 포맷\n",
    "    | llm  # GPT가 응답 생성\n",
    "    | StrOutputParser()  # 출력된 응답을 사람이 읽을 수 있는 텍스트로 정리\n",
    ")\n"
   ]
  },
  {
   "cell_type": "code",
   "execution_count": 185,
   "id": "c83393f9",
   "metadata": {},
   "outputs": [
    {
     "data": {
      "text/plain": [
       "'Brad D. Smith is the President of Marshall University and a director on the board of Amazon.com, Inc. He is 60 years old.'"
      ]
     },
     "execution_count": 185,
     "metadata": {},
     "output_type": "execute_result"
    }
   ],
   "source": [
    "\n",
    "# 질문을 전달하여 LLMChain을 실행하고 결과를 출력합니다.\n",
    "\n",
    "# # Simpler approach that's easier to debug\n",
    "# def retrieve_and_format(question):\n",
    "#     docs = faiss_retriever.invoke(question)\n",
    "#     return format_docs(docs)\n",
    "\n",
    "# # Test this function first\n",
    "# test_context = retrieve_and_format(\"who is Brad D. Smith\")\n",
    "# print(\"Context:\", test_context)\n",
    "\n",
    "query = \"who is Brad D. Smith\"\n",
    "chain.invoke(query) "
   ]
  },
  {
   "cell_type": "markdown",
   "id": "18b4ba33",
   "metadata": {},
   "source": [
    "### Summary"
   ]
  },
  {
   "cell_type": "code",
   "execution_count": 240,
   "id": "6d2ef6f6",
   "metadata": {},
   "outputs": [],
   "source": [
    "def rag_chain( query):\n",
    "\n",
    "    # endpoint = HuggingFaceEndpoint(\n",
    "    #   repo_id= \"deepseek-ai/DeepSeek-V3-0324\", # \"microsoft/DialoGPT-medium\" ,  # 모델 저장소 ID를 지정합니다.\n",
    "    #   max_new_tokens=256,  # 생성할 최대 토큰 길이를 설정.\n",
    "    #   temperature=0.7,  # 생성 온도를 설정합니다. \n",
    "    #   huggingfacehub_api_token=os.environ[\"huggingface_read\"],  # 허깅페이스 토큰\n",
    "    #  )\n",
    "    # # ChatHuggingFace로 감싸기\n",
    "    # llm = ChatHuggingFace(llm=endpoint)\n",
    "    #         # Test the endpoint first\n",
    "\n",
    "\n",
    "    chain = (\n",
    "        {\"context\": faiss_retriever, \"question\": RunnablePassthrough()}\n",
    "        | prompt\n",
    "        | llm\n",
    "        | StrOutputParser()\n",
    "    )\n",
    "    \n",
    "    return chain.invoke(query)"
   ]
  },
  {
   "cell_type": "code",
   "execution_count": 241,
   "id": "93037e0e",
   "metadata": {},
   "outputs": [
    {
     "ename": "OllamaEndpointNotFoundError",
     "evalue": "Ollama call failed with status code 404. Maybe your model is not found and you should pull the model with `ollama pull llama3.1:8b`.",
     "output_type": "error",
     "traceback": [
      "\u001b[0;31m---------------------------------------------------------------------------\u001b[0m",
      "\u001b[0;31mOllamaEndpointNotFoundError\u001b[0m               Traceback (most recent call last)",
      "Cell \u001b[0;32mIn[241], line 1\u001b[0m\n\u001b[0;32m----> 1\u001b[0m \u001b[43mrag_chain\u001b[49m\u001b[43m(\u001b[49m\u001b[43m \u001b[49m\u001b[43mquery\u001b[49m\u001b[43m)\u001b[49m\n",
      "Cell \u001b[0;32mIn[240], line 21\u001b[0m, in \u001b[0;36mrag_chain\u001b[0;34m(query)\u001b[0m\n\u001b[1;32m      1\u001b[0m \u001b[38;5;28;01mdef\u001b[39;00m\u001b[38;5;250m \u001b[39m\u001b[38;5;21mrag_chain\u001b[39m( query):\n\u001b[1;32m      2\u001b[0m \n\u001b[1;32m      3\u001b[0m     \u001b[38;5;66;03m# endpoint = HuggingFaceEndpoint(\u001b[39;00m\n\u001b[0;32m   (...)\u001b[0m\n\u001b[1;32m     10\u001b[0m     \u001b[38;5;66;03m# llm = ChatHuggingFace(llm=endpoint)\u001b[39;00m\n\u001b[1;32m     11\u001b[0m     \u001b[38;5;66;03m#         # Test the endpoint first\u001b[39;00m\n\u001b[1;32m     14\u001b[0m     chain \u001b[38;5;241m=\u001b[39m (\n\u001b[1;32m     15\u001b[0m         {\u001b[38;5;124m\"\u001b[39m\u001b[38;5;124mcontext\u001b[39m\u001b[38;5;124m\"\u001b[39m: faiss_retriever, \u001b[38;5;124m\"\u001b[39m\u001b[38;5;124mquestion\u001b[39m\u001b[38;5;124m\"\u001b[39m: RunnablePassthrough()}\n\u001b[1;32m     16\u001b[0m         \u001b[38;5;241m|\u001b[39m prompt\n\u001b[1;32m     17\u001b[0m         \u001b[38;5;241m|\u001b[39m llm\n\u001b[1;32m     18\u001b[0m         \u001b[38;5;241m|\u001b[39m StrOutputParser()\n\u001b[1;32m     19\u001b[0m     )\n\u001b[0;32m---> 21\u001b[0m     \u001b[38;5;28;01mreturn\u001b[39;00m \u001b[43mchain\u001b[49m\u001b[38;5;241;43m.\u001b[39;49m\u001b[43minvoke\u001b[49m\u001b[43m(\u001b[49m\u001b[43mquery\u001b[49m\u001b[43m)\u001b[49m\n",
      "File \u001b[0;32m/opt/anaconda3/envs/env_llm/lib/python3.10/site-packages/langchain_core/runnables/base.py:3049\u001b[0m, in \u001b[0;36mRunnableSequence.invoke\u001b[0;34m(self, input, config, **kwargs)\u001b[0m\n\u001b[1;32m   3047\u001b[0m                 input_ \u001b[38;5;241m=\u001b[39m context\u001b[38;5;241m.\u001b[39mrun(step\u001b[38;5;241m.\u001b[39minvoke, input_, config, \u001b[38;5;241m*\u001b[39m\u001b[38;5;241m*\u001b[39mkwargs)\n\u001b[1;32m   3048\u001b[0m             \u001b[38;5;28;01melse\u001b[39;00m:\n\u001b[0;32m-> 3049\u001b[0m                 input_ \u001b[38;5;241m=\u001b[39m \u001b[43mcontext\u001b[49m\u001b[38;5;241;43m.\u001b[39;49m\u001b[43mrun\u001b[49m\u001b[43m(\u001b[49m\u001b[43mstep\u001b[49m\u001b[38;5;241;43m.\u001b[39;49m\u001b[43minvoke\u001b[49m\u001b[43m,\u001b[49m\u001b[43m \u001b[49m\u001b[43minput_\u001b[49m\u001b[43m,\u001b[49m\u001b[43m \u001b[49m\u001b[43mconfig\u001b[49m\u001b[43m)\u001b[49m\n\u001b[1;32m   3050\u001b[0m \u001b[38;5;66;03m# finish the root run\u001b[39;00m\n\u001b[1;32m   3051\u001b[0m \u001b[38;5;28;01mexcept\u001b[39;00m \u001b[38;5;167;01mBaseException\u001b[39;00m \u001b[38;5;28;01mas\u001b[39;00m e:\n",
      "File \u001b[0;32m/opt/anaconda3/envs/env_llm/lib/python3.10/site-packages/langchain_core/language_models/chat_models.py:383\u001b[0m, in \u001b[0;36mBaseChatModel.invoke\u001b[0;34m(self, input, config, stop, **kwargs)\u001b[0m\n\u001b[1;32m    371\u001b[0m \u001b[38;5;129m@override\u001b[39m\n\u001b[1;32m    372\u001b[0m \u001b[38;5;28;01mdef\u001b[39;00m\u001b[38;5;250m \u001b[39m\u001b[38;5;21minvoke\u001b[39m(\n\u001b[1;32m    373\u001b[0m     \u001b[38;5;28mself\u001b[39m,\n\u001b[0;32m   (...)\u001b[0m\n\u001b[1;32m    378\u001b[0m     \u001b[38;5;241m*\u001b[39m\u001b[38;5;241m*\u001b[39mkwargs: Any,\n\u001b[1;32m    379\u001b[0m ) \u001b[38;5;241m-\u001b[39m\u001b[38;5;241m>\u001b[39m BaseMessage:\n\u001b[1;32m    380\u001b[0m     config \u001b[38;5;241m=\u001b[39m ensure_config(config)\n\u001b[1;32m    381\u001b[0m     \u001b[38;5;28;01mreturn\u001b[39;00m cast(\n\u001b[1;32m    382\u001b[0m         \u001b[38;5;124m\"\u001b[39m\u001b[38;5;124mChatGeneration\u001b[39m\u001b[38;5;124m\"\u001b[39m,\n\u001b[0;32m--> 383\u001b[0m         \u001b[38;5;28;43mself\u001b[39;49m\u001b[38;5;241;43m.\u001b[39;49m\u001b[43mgenerate_prompt\u001b[49m\u001b[43m(\u001b[49m\n\u001b[1;32m    384\u001b[0m \u001b[43m            \u001b[49m\u001b[43m[\u001b[49m\u001b[38;5;28;43mself\u001b[39;49m\u001b[38;5;241;43m.\u001b[39;49m\u001b[43m_convert_input\u001b[49m\u001b[43m(\u001b[49m\u001b[38;5;28;43minput\u001b[39;49m\u001b[43m)\u001b[49m\u001b[43m]\u001b[49m\u001b[43m,\u001b[49m\n\u001b[1;32m    385\u001b[0m \u001b[43m            \u001b[49m\u001b[43mstop\u001b[49m\u001b[38;5;241;43m=\u001b[39;49m\u001b[43mstop\u001b[49m\u001b[43m,\u001b[49m\n\u001b[1;32m    386\u001b[0m \u001b[43m            \u001b[49m\u001b[43mcallbacks\u001b[49m\u001b[38;5;241;43m=\u001b[39;49m\u001b[43mconfig\u001b[49m\u001b[38;5;241;43m.\u001b[39;49m\u001b[43mget\u001b[49m\u001b[43m(\u001b[49m\u001b[38;5;124;43m\"\u001b[39;49m\u001b[38;5;124;43mcallbacks\u001b[39;49m\u001b[38;5;124;43m\"\u001b[39;49m\u001b[43m)\u001b[49m\u001b[43m,\u001b[49m\n\u001b[1;32m    387\u001b[0m \u001b[43m            \u001b[49m\u001b[43mtags\u001b[49m\u001b[38;5;241;43m=\u001b[39;49m\u001b[43mconfig\u001b[49m\u001b[38;5;241;43m.\u001b[39;49m\u001b[43mget\u001b[49m\u001b[43m(\u001b[49m\u001b[38;5;124;43m\"\u001b[39;49m\u001b[38;5;124;43mtags\u001b[39;49m\u001b[38;5;124;43m\"\u001b[39;49m\u001b[43m)\u001b[49m\u001b[43m,\u001b[49m\n\u001b[1;32m    388\u001b[0m \u001b[43m            \u001b[49m\u001b[43mmetadata\u001b[49m\u001b[38;5;241;43m=\u001b[39;49m\u001b[43mconfig\u001b[49m\u001b[38;5;241;43m.\u001b[39;49m\u001b[43mget\u001b[49m\u001b[43m(\u001b[49m\u001b[38;5;124;43m\"\u001b[39;49m\u001b[38;5;124;43mmetadata\u001b[39;49m\u001b[38;5;124;43m\"\u001b[39;49m\u001b[43m)\u001b[49m\u001b[43m,\u001b[49m\n\u001b[1;32m    389\u001b[0m \u001b[43m            \u001b[49m\u001b[43mrun_name\u001b[49m\u001b[38;5;241;43m=\u001b[39;49m\u001b[43mconfig\u001b[49m\u001b[38;5;241;43m.\u001b[39;49m\u001b[43mget\u001b[49m\u001b[43m(\u001b[49m\u001b[38;5;124;43m\"\u001b[39;49m\u001b[38;5;124;43mrun_name\u001b[39;49m\u001b[38;5;124;43m\"\u001b[39;49m\u001b[43m)\u001b[49m\u001b[43m,\u001b[49m\n\u001b[1;32m    390\u001b[0m \u001b[43m            \u001b[49m\u001b[43mrun_id\u001b[49m\u001b[38;5;241;43m=\u001b[39;49m\u001b[43mconfig\u001b[49m\u001b[38;5;241;43m.\u001b[39;49m\u001b[43mpop\u001b[49m\u001b[43m(\u001b[49m\u001b[38;5;124;43m\"\u001b[39;49m\u001b[38;5;124;43mrun_id\u001b[39;49m\u001b[38;5;124;43m\"\u001b[39;49m\u001b[43m,\u001b[49m\u001b[43m \u001b[49m\u001b[38;5;28;43;01mNone\u001b[39;49;00m\u001b[43m)\u001b[49m\u001b[43m,\u001b[49m\n\u001b[1;32m    391\u001b[0m \u001b[43m            \u001b[49m\u001b[38;5;241;43m*\u001b[39;49m\u001b[38;5;241;43m*\u001b[39;49m\u001b[43mkwargs\u001b[49m\u001b[43m,\u001b[49m\n\u001b[1;32m    392\u001b[0m \u001b[43m        \u001b[49m\u001b[43m)\u001b[49m\u001b[38;5;241m.\u001b[39mgenerations[\u001b[38;5;241m0\u001b[39m][\u001b[38;5;241m0\u001b[39m],\n\u001b[1;32m    393\u001b[0m     )\u001b[38;5;241m.\u001b[39mmessage\n",
      "File \u001b[0;32m/opt/anaconda3/envs/env_llm/lib/python3.10/site-packages/langchain_core/language_models/chat_models.py:1006\u001b[0m, in \u001b[0;36mBaseChatModel.generate_prompt\u001b[0;34m(self, prompts, stop, callbacks, **kwargs)\u001b[0m\n\u001b[1;32m    997\u001b[0m \u001b[38;5;129m@override\u001b[39m\n\u001b[1;32m    998\u001b[0m \u001b[38;5;28;01mdef\u001b[39;00m\u001b[38;5;250m \u001b[39m\u001b[38;5;21mgenerate_prompt\u001b[39m(\n\u001b[1;32m    999\u001b[0m     \u001b[38;5;28mself\u001b[39m,\n\u001b[0;32m   (...)\u001b[0m\n\u001b[1;32m   1003\u001b[0m     \u001b[38;5;241m*\u001b[39m\u001b[38;5;241m*\u001b[39mkwargs: Any,\n\u001b[1;32m   1004\u001b[0m ) \u001b[38;5;241m-\u001b[39m\u001b[38;5;241m>\u001b[39m LLMResult:\n\u001b[1;32m   1005\u001b[0m     prompt_messages \u001b[38;5;241m=\u001b[39m [p\u001b[38;5;241m.\u001b[39mto_messages() \u001b[38;5;28;01mfor\u001b[39;00m p \u001b[38;5;129;01min\u001b[39;00m prompts]\n\u001b[0;32m-> 1006\u001b[0m     \u001b[38;5;28;01mreturn\u001b[39;00m \u001b[38;5;28;43mself\u001b[39;49m\u001b[38;5;241;43m.\u001b[39;49m\u001b[43mgenerate\u001b[49m\u001b[43m(\u001b[49m\u001b[43mprompt_messages\u001b[49m\u001b[43m,\u001b[49m\u001b[43m \u001b[49m\u001b[43mstop\u001b[49m\u001b[38;5;241;43m=\u001b[39;49m\u001b[43mstop\u001b[49m\u001b[43m,\u001b[49m\u001b[43m \u001b[49m\u001b[43mcallbacks\u001b[49m\u001b[38;5;241;43m=\u001b[39;49m\u001b[43mcallbacks\u001b[49m\u001b[43m,\u001b[49m\u001b[43m \u001b[49m\u001b[38;5;241;43m*\u001b[39;49m\u001b[38;5;241;43m*\u001b[39;49m\u001b[43mkwargs\u001b[49m\u001b[43m)\u001b[49m\n",
      "File \u001b[0;32m/opt/anaconda3/envs/env_llm/lib/python3.10/site-packages/langchain_core/language_models/chat_models.py:825\u001b[0m, in \u001b[0;36mBaseChatModel.generate\u001b[0;34m(self, messages, stop, callbacks, tags, metadata, run_name, run_id, **kwargs)\u001b[0m\n\u001b[1;32m    822\u001b[0m \u001b[38;5;28;01mfor\u001b[39;00m i, m \u001b[38;5;129;01min\u001b[39;00m \u001b[38;5;28menumerate\u001b[39m(input_messages):\n\u001b[1;32m    823\u001b[0m     \u001b[38;5;28;01mtry\u001b[39;00m:\n\u001b[1;32m    824\u001b[0m         results\u001b[38;5;241m.\u001b[39mappend(\n\u001b[0;32m--> 825\u001b[0m             \u001b[38;5;28;43mself\u001b[39;49m\u001b[38;5;241;43m.\u001b[39;49m\u001b[43m_generate_with_cache\u001b[49m\u001b[43m(\u001b[49m\n\u001b[1;32m    826\u001b[0m \u001b[43m                \u001b[49m\u001b[43mm\u001b[49m\u001b[43m,\u001b[49m\n\u001b[1;32m    827\u001b[0m \u001b[43m                \u001b[49m\u001b[43mstop\u001b[49m\u001b[38;5;241;43m=\u001b[39;49m\u001b[43mstop\u001b[49m\u001b[43m,\u001b[49m\n\u001b[1;32m    828\u001b[0m \u001b[43m                \u001b[49m\u001b[43mrun_manager\u001b[49m\u001b[38;5;241;43m=\u001b[39;49m\u001b[43mrun_managers\u001b[49m\u001b[43m[\u001b[49m\u001b[43mi\u001b[49m\u001b[43m]\u001b[49m\u001b[43m \u001b[49m\u001b[38;5;28;43;01mif\u001b[39;49;00m\u001b[43m \u001b[49m\u001b[43mrun_managers\u001b[49m\u001b[43m \u001b[49m\u001b[38;5;28;43;01melse\u001b[39;49;00m\u001b[43m \u001b[49m\u001b[38;5;28;43;01mNone\u001b[39;49;00m\u001b[43m,\u001b[49m\n\u001b[1;32m    829\u001b[0m \u001b[43m                \u001b[49m\u001b[38;5;241;43m*\u001b[39;49m\u001b[38;5;241;43m*\u001b[39;49m\u001b[43mkwargs\u001b[49m\u001b[43m,\u001b[49m\n\u001b[1;32m    830\u001b[0m \u001b[43m            \u001b[49m\u001b[43m)\u001b[49m\n\u001b[1;32m    831\u001b[0m         )\n\u001b[1;32m    832\u001b[0m     \u001b[38;5;28;01mexcept\u001b[39;00m \u001b[38;5;167;01mBaseException\u001b[39;00m \u001b[38;5;28;01mas\u001b[39;00m e:\n\u001b[1;32m    833\u001b[0m         \u001b[38;5;28;01mif\u001b[39;00m run_managers:\n",
      "File \u001b[0;32m/opt/anaconda3/envs/env_llm/lib/python3.10/site-packages/langchain_core/language_models/chat_models.py:1072\u001b[0m, in \u001b[0;36mBaseChatModel._generate_with_cache\u001b[0;34m(self, messages, stop, run_manager, **kwargs)\u001b[0m\n\u001b[1;32m   1070\u001b[0m     result \u001b[38;5;241m=\u001b[39m generate_from_stream(\u001b[38;5;28miter\u001b[39m(chunks))\n\u001b[1;32m   1071\u001b[0m \u001b[38;5;28;01melif\u001b[39;00m inspect\u001b[38;5;241m.\u001b[39msignature(\u001b[38;5;28mself\u001b[39m\u001b[38;5;241m.\u001b[39m_generate)\u001b[38;5;241m.\u001b[39mparameters\u001b[38;5;241m.\u001b[39mget(\u001b[38;5;124m\"\u001b[39m\u001b[38;5;124mrun_manager\u001b[39m\u001b[38;5;124m\"\u001b[39m):\n\u001b[0;32m-> 1072\u001b[0m     result \u001b[38;5;241m=\u001b[39m \u001b[38;5;28;43mself\u001b[39;49m\u001b[38;5;241;43m.\u001b[39;49m\u001b[43m_generate\u001b[49m\u001b[43m(\u001b[49m\n\u001b[1;32m   1073\u001b[0m \u001b[43m        \u001b[49m\u001b[43mmessages\u001b[49m\u001b[43m,\u001b[49m\u001b[43m \u001b[49m\u001b[43mstop\u001b[49m\u001b[38;5;241;43m=\u001b[39;49m\u001b[43mstop\u001b[49m\u001b[43m,\u001b[49m\u001b[43m \u001b[49m\u001b[43mrun_manager\u001b[49m\u001b[38;5;241;43m=\u001b[39;49m\u001b[43mrun_manager\u001b[49m\u001b[43m,\u001b[49m\u001b[43m \u001b[49m\u001b[38;5;241;43m*\u001b[39;49m\u001b[38;5;241;43m*\u001b[39;49m\u001b[43mkwargs\u001b[49m\n\u001b[1;32m   1074\u001b[0m \u001b[43m    \u001b[49m\u001b[43m)\u001b[49m\n\u001b[1;32m   1075\u001b[0m \u001b[38;5;28;01melse\u001b[39;00m:\n\u001b[1;32m   1076\u001b[0m     result \u001b[38;5;241m=\u001b[39m \u001b[38;5;28mself\u001b[39m\u001b[38;5;241m.\u001b[39m_generate(messages, stop\u001b[38;5;241m=\u001b[39mstop, \u001b[38;5;241m*\u001b[39m\u001b[38;5;241m*\u001b[39mkwargs)\n",
      "File \u001b[0;32m/opt/anaconda3/envs/env_llm/lib/python3.10/site-packages/langchain_community/chat_models/ollama.py:291\u001b[0m, in \u001b[0;36mChatOllama._generate\u001b[0;34m(self, messages, stop, run_manager, **kwargs)\u001b[0m\n\u001b[1;32m    267\u001b[0m \u001b[38;5;28;01mdef\u001b[39;00m\u001b[38;5;250m \u001b[39m\u001b[38;5;21m_generate\u001b[39m(\n\u001b[1;32m    268\u001b[0m     \u001b[38;5;28mself\u001b[39m,\n\u001b[1;32m    269\u001b[0m     messages: List[BaseMessage],\n\u001b[0;32m   (...)\u001b[0m\n\u001b[1;32m    272\u001b[0m     \u001b[38;5;241m*\u001b[39m\u001b[38;5;241m*\u001b[39mkwargs: Any,\n\u001b[1;32m    273\u001b[0m ) \u001b[38;5;241m-\u001b[39m\u001b[38;5;241m>\u001b[39m ChatResult:\n\u001b[1;32m    274\u001b[0m \u001b[38;5;250m    \u001b[39m\u001b[38;5;124;03m\"\"\"Call out to Ollama's generate endpoint.\u001b[39;00m\n\u001b[1;32m    275\u001b[0m \n\u001b[1;32m    276\u001b[0m \u001b[38;5;124;03m    Args:\u001b[39;00m\n\u001b[0;32m   (...)\u001b[0m\n\u001b[1;32m    288\u001b[0m \u001b[38;5;124;03m            ])\u001b[39;00m\n\u001b[1;32m    289\u001b[0m \u001b[38;5;124;03m    \"\"\"\u001b[39;00m\n\u001b[0;32m--> 291\u001b[0m     final_chunk \u001b[38;5;241m=\u001b[39m \u001b[38;5;28;43mself\u001b[39;49m\u001b[38;5;241;43m.\u001b[39;49m\u001b[43m_chat_stream_with_aggregation\u001b[49m\u001b[43m(\u001b[49m\n\u001b[1;32m    292\u001b[0m \u001b[43m        \u001b[49m\u001b[43mmessages\u001b[49m\u001b[43m,\u001b[49m\n\u001b[1;32m    293\u001b[0m \u001b[43m        \u001b[49m\u001b[43mstop\u001b[49m\u001b[38;5;241;43m=\u001b[39;49m\u001b[43mstop\u001b[49m\u001b[43m,\u001b[49m\n\u001b[1;32m    294\u001b[0m \u001b[43m        \u001b[49m\u001b[43mrun_manager\u001b[49m\u001b[38;5;241;43m=\u001b[39;49m\u001b[43mrun_manager\u001b[49m\u001b[43m,\u001b[49m\n\u001b[1;32m    295\u001b[0m \u001b[43m        \u001b[49m\u001b[43mverbose\u001b[49m\u001b[38;5;241;43m=\u001b[39;49m\u001b[38;5;28;43mself\u001b[39;49m\u001b[38;5;241;43m.\u001b[39;49m\u001b[43mverbose\u001b[49m\u001b[43m,\u001b[49m\n\u001b[1;32m    296\u001b[0m \u001b[43m        \u001b[49m\u001b[38;5;241;43m*\u001b[39;49m\u001b[38;5;241;43m*\u001b[39;49m\u001b[43mkwargs\u001b[49m\u001b[43m,\u001b[49m\n\u001b[1;32m    297\u001b[0m \u001b[43m    \u001b[49m\u001b[43m)\u001b[49m\n\u001b[1;32m    298\u001b[0m     chat_generation \u001b[38;5;241m=\u001b[39m ChatGeneration(\n\u001b[1;32m    299\u001b[0m         message\u001b[38;5;241m=\u001b[39mAIMessage(content\u001b[38;5;241m=\u001b[39mfinal_chunk\u001b[38;5;241m.\u001b[39mtext),\n\u001b[1;32m    300\u001b[0m         generation_info\u001b[38;5;241m=\u001b[39mfinal_chunk\u001b[38;5;241m.\u001b[39mgeneration_info,\n\u001b[1;32m    301\u001b[0m     )\n\u001b[1;32m    302\u001b[0m     \u001b[38;5;28;01mreturn\u001b[39;00m ChatResult(generations\u001b[38;5;241m=\u001b[39m[chat_generation])\n",
      "File \u001b[0;32m/opt/anaconda3/envs/env_llm/lib/python3.10/site-packages/langchain_community/chat_models/ollama.py:222\u001b[0m, in \u001b[0;36mChatOllama._chat_stream_with_aggregation\u001b[0;34m(self, messages, stop, run_manager, verbose, **kwargs)\u001b[0m\n\u001b[1;32m    213\u001b[0m \u001b[38;5;28;01mdef\u001b[39;00m\u001b[38;5;250m \u001b[39m\u001b[38;5;21m_chat_stream_with_aggregation\u001b[39m(\n\u001b[1;32m    214\u001b[0m     \u001b[38;5;28mself\u001b[39m,\n\u001b[1;32m    215\u001b[0m     messages: List[BaseMessage],\n\u001b[0;32m   (...)\u001b[0m\n\u001b[1;32m    219\u001b[0m     \u001b[38;5;241m*\u001b[39m\u001b[38;5;241m*\u001b[39mkwargs: Any,\n\u001b[1;32m    220\u001b[0m ) \u001b[38;5;241m-\u001b[39m\u001b[38;5;241m>\u001b[39m ChatGenerationChunk:\n\u001b[1;32m    221\u001b[0m     final_chunk: Optional[ChatGenerationChunk] \u001b[38;5;241m=\u001b[39m \u001b[38;5;28;01mNone\u001b[39;00m\n\u001b[0;32m--> 222\u001b[0m     \u001b[38;5;28;01mfor\u001b[39;00m stream_resp \u001b[38;5;129;01min\u001b[39;00m \u001b[38;5;28mself\u001b[39m\u001b[38;5;241m.\u001b[39m_create_chat_stream(messages, stop, \u001b[38;5;241m*\u001b[39m\u001b[38;5;241m*\u001b[39mkwargs):\n\u001b[1;32m    223\u001b[0m         \u001b[38;5;28;01mif\u001b[39;00m stream_resp:\n\u001b[1;32m    224\u001b[0m             chunk \u001b[38;5;241m=\u001b[39m _chat_stream_response_to_chat_generation_chunk(stream_resp)\n",
      "File \u001b[0;32m/opt/anaconda3/envs/env_llm/lib/python3.10/site-packages/langchain_community/chat_models/ollama.py:194\u001b[0m, in \u001b[0;36mChatOllama._create_chat_stream\u001b[0;34m(self, messages, stop, **kwargs)\u001b[0m\n\u001b[1;32m    184\u001b[0m \u001b[38;5;28;01mdef\u001b[39;00m\u001b[38;5;250m \u001b[39m\u001b[38;5;21m_create_chat_stream\u001b[39m(\n\u001b[1;32m    185\u001b[0m     \u001b[38;5;28mself\u001b[39m,\n\u001b[1;32m    186\u001b[0m     messages: List[BaseMessage],\n\u001b[1;32m    187\u001b[0m     stop: Optional[List[\u001b[38;5;28mstr\u001b[39m]] \u001b[38;5;241m=\u001b[39m \u001b[38;5;28;01mNone\u001b[39;00m,\n\u001b[1;32m    188\u001b[0m     \u001b[38;5;241m*\u001b[39m\u001b[38;5;241m*\u001b[39mkwargs: Any,\n\u001b[1;32m    189\u001b[0m ) \u001b[38;5;241m-\u001b[39m\u001b[38;5;241m>\u001b[39m Iterator[\u001b[38;5;28mstr\u001b[39m]:\n\u001b[1;32m    190\u001b[0m     payload \u001b[38;5;241m=\u001b[39m {\n\u001b[1;32m    191\u001b[0m         \u001b[38;5;124m\"\u001b[39m\u001b[38;5;124mmodel\u001b[39m\u001b[38;5;124m\"\u001b[39m: \u001b[38;5;28mself\u001b[39m\u001b[38;5;241m.\u001b[39mmodel,\n\u001b[1;32m    192\u001b[0m         \u001b[38;5;124m\"\u001b[39m\u001b[38;5;124mmessages\u001b[39m\u001b[38;5;124m\"\u001b[39m: \u001b[38;5;28mself\u001b[39m\u001b[38;5;241m.\u001b[39m_convert_messages_to_ollama_messages(messages),\n\u001b[1;32m    193\u001b[0m     }\n\u001b[0;32m--> 194\u001b[0m     \u001b[38;5;28;01myield from\u001b[39;00m \u001b[38;5;28;43mself\u001b[39;49m\u001b[38;5;241;43m.\u001b[39;49m\u001b[43m_create_stream\u001b[49m\u001b[43m(\u001b[49m\n\u001b[1;32m    195\u001b[0m \u001b[43m        \u001b[49m\u001b[43mpayload\u001b[49m\u001b[38;5;241;43m=\u001b[39;49m\u001b[43mpayload\u001b[49m\u001b[43m,\u001b[49m\u001b[43m \u001b[49m\u001b[43mstop\u001b[49m\u001b[38;5;241;43m=\u001b[39;49m\u001b[43mstop\u001b[49m\u001b[43m,\u001b[49m\u001b[43m \u001b[49m\u001b[43mapi_url\u001b[49m\u001b[38;5;241;43m=\u001b[39;49m\u001b[38;5;124;43mf\u001b[39;49m\u001b[38;5;124;43m\"\u001b[39;49m\u001b[38;5;132;43;01m{\u001b[39;49;00m\u001b[38;5;28;43mself\u001b[39;49m\u001b[38;5;241;43m.\u001b[39;49m\u001b[43mbase_url\u001b[49m\u001b[38;5;132;43;01m}\u001b[39;49;00m\u001b[38;5;124;43m/api/chat\u001b[39;49m\u001b[38;5;124;43m\"\u001b[39;49m\u001b[43m,\u001b[49m\u001b[43m \u001b[49m\u001b[38;5;241;43m*\u001b[39;49m\u001b[38;5;241;43m*\u001b[39;49m\u001b[43mkwargs\u001b[49m\n\u001b[1;32m    196\u001b[0m \u001b[43m    \u001b[49m\u001b[43m)\u001b[49m\n",
      "File \u001b[0;32m/opt/anaconda3/envs/env_llm/lib/python3.10/site-packages/langchain_community/llms/ollama.py:266\u001b[0m, in \u001b[0;36m_OllamaCommon._create_stream\u001b[0;34m(self, api_url, payload, stop, **kwargs)\u001b[0m\n\u001b[1;32m    264\u001b[0m \u001b[38;5;28;01mif\u001b[39;00m response\u001b[38;5;241m.\u001b[39mstatus_code \u001b[38;5;241m!=\u001b[39m \u001b[38;5;241m200\u001b[39m:\n\u001b[1;32m    265\u001b[0m     \u001b[38;5;28;01mif\u001b[39;00m response\u001b[38;5;241m.\u001b[39mstatus_code \u001b[38;5;241m==\u001b[39m \u001b[38;5;241m404\u001b[39m:\n\u001b[0;32m--> 266\u001b[0m         \u001b[38;5;28;01mraise\u001b[39;00m OllamaEndpointNotFoundError(\n\u001b[1;32m    267\u001b[0m             \u001b[38;5;124m\"\u001b[39m\u001b[38;5;124mOllama call failed with status code 404. \u001b[39m\u001b[38;5;124m\"\u001b[39m\n\u001b[1;32m    268\u001b[0m             \u001b[38;5;124m\"\u001b[39m\u001b[38;5;124mMaybe your model is not found \u001b[39m\u001b[38;5;124m\"\u001b[39m\n\u001b[1;32m    269\u001b[0m             \u001b[38;5;124mf\u001b[39m\u001b[38;5;124m\"\u001b[39m\u001b[38;5;124mand you should pull the model with `ollama pull \u001b[39m\u001b[38;5;132;01m{\u001b[39;00m\u001b[38;5;28mself\u001b[39m\u001b[38;5;241m.\u001b[39mmodel\u001b[38;5;132;01m}\u001b[39;00m\u001b[38;5;124m`.\u001b[39m\u001b[38;5;124m\"\u001b[39m\n\u001b[1;32m    270\u001b[0m         )\n\u001b[1;32m    271\u001b[0m     \u001b[38;5;28;01melse\u001b[39;00m:\n\u001b[1;32m    272\u001b[0m         optional_detail \u001b[38;5;241m=\u001b[39m response\u001b[38;5;241m.\u001b[39mtext\n",
      "\u001b[0;31mOllamaEndpointNotFoundError\u001b[0m: Ollama call failed with status code 404. Maybe your model is not found and you should pull the model with `ollama pull llama3.1:8b`."
     ]
    }
   ],
   "source": [
    "rag_chain( query)"
   ]
  },
  {
   "cell_type": "markdown",
   "id": "71a43a9f",
   "metadata": {},
   "source": [
    "# chroma as vector store \n",
    "from langchain_chroma import Chroma  \n",
    "db = Chroma.from_documents(texts, model_huggingface )\n",
    "\n",
    "retriever = Chroma.as_retriever()\n",
    "\n",
    "question = 'who is Brad D. Smith'\n",
    "answer = retriever.invoke(question) \n"
   ]
  },
  {
   "attachments": {
    "image.png": {
     "image/png": "[encoded data removed]"
    }
   },
   "cell_type": "markdown",
   "id": "c5bb67b3",
   "metadata": {},
   "source": [
    "### `9. RAG evaluation` \n",
    "\n",
    "![image.png](attachment:image.png)\n",
    "\n",
    "-   `faithfulness`score: 0~1\n",
    "-   `relevance`score`: 0~1 \n",
    "-   `precision`score`: 0~1 "
   ]
  },
  {
   "cell_type": "markdown",
   "id": "bfeab11b",
   "metadata": {},
   "source": [
    "`#### 9.1 Create a test dataset`"
   ]
  },
  {
   "cell_type": "markdown",
   "id": "645a9ecc",
   "metadata": {},
   "source": [
    "평가 데이터셋 생성:\n",
    "    1. 질문생성\n",
    "    2. 문맥 검색, 답변 생성"
   ]
  },
  {
   "cell_type": "code",
   "execution_count": 188,
   "id": "a6db5956",
   "metadata": {},
   "outputs": [],
   "source": [
    "def generate_questions(llm, context, num_questions=5):\n",
    "    prompt = f\"\"\"Based on the following context, generate {num_questions} relevant questions that can be answered using the context. \n",
    "    Return the questions as a list of strings.\n",
    "\n",
    "Context:\n",
    "{context}\n",
    "\n",
    "Questions:\"\"\"\n",
    "    response = llm.invoke(prompt)\n",
    "    questions = response.content.strip().split(\"\\n\")\n",
    "    questions = [q.strip() for q in questions if q.strip()]\n",
    "    return questions[:num_questions]\n"
   ]
  },
  {
   "cell_type": "code",
   "execution_count": 189,
   "id": "9362e1e3",
   "metadata": {},
   "outputs": [],
   "source": [
    "    # 문맥에서 질문 생성\n",
    "    sample_context = docs[10].page_content  # 열번째 문서에서 질문생성\n",
    "    questions = generate_questions(llm, sample_context, num_questions=5)"
   ]
  },
  {
   "cell_type": "code",
   "execution_count": 190,
   "id": "b46cb368",
   "metadata": {},
   "outputs": [
    {
     "data": {
      "text/plain": [
       "['Here are five relevant questions that can be answered using the provided context:',\n",
       " \"1. **What is the company's investment philosophy, and how does it approach bold investment decisions?**\",\n",
       " '2. **How does the company prioritize between GAAP accounting and maximizing future cash flows?**',\n",
       " '3. **What strategies does the company use to maintain a cost-conscious culture while focusing on growth?**',\n",
       " '4. **How did Amazon.com improve its customer experience in 1997, and what new features were introduced?**']"
      ]
     },
     "execution_count": 190,
     "metadata": {},
     "output_type": "execute_result"
    }
   ],
   "source": [
    "questions "
   ]
  },
  {
   "cell_type": "code",
   "execution_count": 234,
   "id": "4db5689a",
   "metadata": {},
   "outputs": [],
   "source": [
    "from langchain.chains import RetrievalQA\n",
    "\n",
    "# RetrievalQA 체인 설정\n",
    "qa_chain = RetrievalQA.from_chain_type(\n",
    "    llm=llm,\n",
    "    chain_type=\"stuff\",\n",
    "    retriever=faiss_retriever,\n",
    "    return_source_documents=True\n",
    ")\n",
    "\n",
    "# RAG를 통해 답변 생성 \n",
    "def generate_answers(retrieval_chain, questions):\n",
    "    answers = []\n",
    "    contexts = []\n",
    "    for question in questions:\n",
    "        # RetrievalQA 체인을 올바르게 호출\n",
    "        result = retrieval_chain.invoke({\"query\": question})\n",
    "        answers.append(result[\"result\"])\n",
    "        retrieved_docs = result[\"source_documents\"]\n",
    "        contexts.append([doc.page_content for doc in retrieved_docs])  # List of strings for Ragas\n",
    "    return answers, contexts"
   ]
  },
  {
   "cell_type": "code",
   "execution_count": null,
   "id": "db1f707f",
   "metadata": {},
   "outputs": [],
   "source": [
    "\n",
    "# 답변 및 문맥 생성\n",
    "answers, contexts = generate_answers(qa_chain, questions)"
   ]
  },
  {
   "cell_type": "code",
   "execution_count": null,
   "id": "c53722a2",
   "metadata": {},
   "outputs": [
    {
     "data": {
      "text/plain": [
       "['1. **What strategies does the company employ to enable a \"Why Culture\" (high YQ) in its organization?**  \\n   - The context mentions that enabling a high YQ (Why Quotient) is not solved by a single mechanism but requires embedding it deeply into the company\\'s culture and leadership team. However, specific strategies are not detailed in the provided text.  \\n\\n2. **Why did the company increase its reserves for liabilities in Q4 2022, and what was the impact?**  \\n   - The company increased its reserves by $1.3 billion due to changes in estimates about the costs of asserted and unasserted claims. This adjustment was primarily recorded in \"Cost of sales\" and impacted the North America segment.  \\n\\n3. **What legal proceedings is Amazon involved in regarding its Alexa technology?**  \\n   - In May 2018, Rensselaer Polytechnic Institute and CF Dynamic Advances LLC filed a complaint alleging that Amazon’s Alexa Voice Software and Alexa-enabled devices infringe U.S. Patent No. 7,177,798.  \\n\\n4. **What are some of the competitive challenges the company faces?**  \\n   - The company operates in a rapidly evolving and intensely competitive landscape, facing competitors across geographies and industries, including e-commerce, cloud computing, digital content, advertising, and grocery.  \\n\\n5. **What factors could cause actual results to differ from the company\\'s actuarial estimates for liabilities?**  \\n   - Changes in the number or costs of claims, healthcare costs, legal expenses, inflation, and other actuarial assumptions could lead to material differences between estimated and actual results.  \\n\\nLet me know if you\\'d like further clarification on any of these answers!',\n",
       " \"The company's investment philosophy is centered on long-term market leadership rather than short-term profitability or Wall Street reactions. Key aspects of this approach include:  \\n\\n- **Relentless customer focus**: Prioritizing customer needs above all else.  \\n- **Bold investment decisions**: Making aggressive investments where there is a sufficient probability of gaining market leadership, even if some fail.  \\n- **Long-term cash flow over GAAP accounting**: Choosing to maximize future cash flows over short-term accounting appearances.  \\n- **Analytical measurement**: Evaluating investments rigorously, discontinuing underperforming ones, and scaling successful ones.  \\n- **Transparency in strategy**: Sharing strategic reasoning (where competitive pressures allow) so shareholders can assess long-term rationality.  \\n- **Lean culture and cost-consciousness**: Maintaining disciplined spending while balancing growth with profitability.  \\n\\nThe company acknowledges that some bold bets will succeed while others may fail, but views both outcomes as valuable learning experiences. This philosophy aligns with its mission to innovate and lead markets over the long term.\",\n",
       " 'The company explicitly states that when forced to choose between optimizing the appearance of GAAP accounting and maximizing the present value of future cash flows, it will prioritize **maximizing future cash flows**. This reflects a focus on long-term financial health and value creation over short-term accounting metrics. \\n\\nAdditionally, the company emphasizes transparency in its strategic decisions, sharing its thought processes (where competitive pressures allow) so stakeholders can evaluate whether these choices align with rational long-term leadership investments. \\n\\nThis approach is part of a broader philosophy that includes bold investment decisions, cost-consciousness, and balancing growth with profitability.',\n",
       " 'Amazon maintains a cost-conscious culture while focusing on growth through several key strategies, as highlighted in the context:\\n\\n1. **Balancing Growth with Profitability & Capital Management**:  \\n   The company prioritizes growth but emphasizes long-term profitability and disciplined capital management. This approach ensures that expansion doesn’t come at the expense of financial sustainability.\\n\\n2. **Compensation Structure**:  \\n   Amazon weights employee compensation toward stock options rather than cash. This aligns employee incentives with long-term company success and reduces immediate cash outflows, fostering an ownership mentality.\\n\\n3. **Operational Efficiency & Scrappiness**:  \\n   The company operates like a \"startup,\" emphasizing speed, frugality, and iterative learning. This mindset encourages cost-conscious decision-making while pursuing innovation and scale.\\n\\n4. **Long-Term Investments in People & Technology**:  \\n   By making strategic, long-term bets on inventions and talent, Amazon avoids short-term waste and ensures resources are allocated to high-impact areas that drive sustainable growth.\\n\\n5. **Seasonal & Labor Optimization**:  \\n   Amazon manages seasonality and labor costs by supplementing its workforce with independent contractors and temporary personnel, allowing flexibility without overcommitting to fixed expenses.\\n\\n6. **Customer Obsession as a Cost Discipline**:  \\n   Relentless focus on customer needs helps avoid unnecessary expenditures. Investments are directed toward initiatives that directly enhance customer value, reducing inefficiencies.\\n\\nThese strategies reflect Amazon’s dual focus on scaling aggressively while maintaining financial discipline—a core tenet since its founding (as echoed in the 1997 letter).  \\n\\n*Note: If you’re looking for more granular cost-control tactics (e.g., logistics optimization, AWS pricing models), additional context would be needed.*',\n",
       " 'In 1997, Amazon.com significantly improved its customer experience by leveraging the Internet to save customers money and time. The company served over **1.5 million customers**, achieving **838% revenue growth** to **$147.8 million**. \\n\\nKey improvements and new features included:  \\n1. **Market Leadership Expansion** – Despite aggressive competition, Amazon extended its dominance in online retail.  \\n2. **Personalization** – The company introduced early forms of personalized online shopping, accelerating the discovery process for customers.  \\n3. **Foundational Growth** – Amazon positioned itself as an enduring franchise by creating real value for customers in large, established markets.  \\n\\nAt the time, Amazon viewed this as **\"Day 1\"** for the Internet, emphasizing its long-term vision for innovation and customer-centric growth. However, the 1997 letter does not specify additional technical features beyond these broad strategic improvements.  \\n\\nWould you like details on later years when more concrete features (like Prime, Alexa, or faster delivery) were introduced?']"
      ]
     },
     "execution_count": 208,
     "metadata": {},
     "output_type": "execute_result"
    }
   ],
   "source": [
    "answers"
   ]
  },
  {
   "cell_type": "code",
   "execution_count": null,
   "id": "49213211",
   "metadata": {},
   "outputs": [
    {
     "data": {
      "text/plain": [
       "['these were provocative questions that required curiosity, risk-taking, experimentation, and persistence to\\nmake these into success stories.\\nEnabling a Why Culture\\nIf you believe having high YQ is critical to inventing for customers, how do you enable it? In my opinion,\\nit’s not solved with one mechanism. It needs to be built deeply into your culture and leadership team, and has\\nto be fiercely protected over time if you’re lucky enough to be successful. Here are a few of the strategies\\nwe employ.\\nliabilities by considering historical claims experience, frequency and costs of claims, projected claims development, inflation, \\nand other actuarial assumptions. Changes in the number or costs of claims, healthcare costs, judgment and settlement amounts, \\nassociated legal expenses, and other factors could cause actual results to differ materially from these estimates. In the fourth \\nquarter of 2022, we increased our reserves for general, product, and automobile liabilities by $1.3 billion primarily driven by \\nchanges in our estimates about the costs of asserted and unasserted claims, which was primarily recorded in “Cost of sales” on \\nour consolidated statements of operations and impacted our North America segment. Increases to our reserves driven by \\n49\\nthird parties, including as a result of evolving requirements imposed on marketplaces with respect to third-party sellers, and (iii) \\nthe adequacy of compliance with reporting obligations, including evolving documentation requirements. Due to the inherent \\ncomplexity and uncertainty of these matters and the judicial and regulatory processes in certain jurisdictions, the final outcome \\nof any such controversies may be materially different from our expectations.\\nLegal Proceedings\\nThe Company is involved from time to time in claims, proceedings, and litigation, including the following:\\nIn May 2018, Rensselaer Polytechnic Institute and CF Dynamic Advances LLC filed a complaint against Amazon.com, \\nInc. in the United States District Court for the Northern District of New York. The complaint alleged, among other things, that \\n“Alexa Voice Software and Alexa enabled devices” infringe U.S. Patent No. 7,177,798, entitled “Natural Language Interface\\nrisks to our operations. In addition to the factors discussed in Item 7 of Part II, “Management’s Discussion and Analysis of \\nFinancial Condition and Results of Operations,” and in the risk factors below, global economic and geopolitical conditions and \\nadditional or unforeseen circumstances, developments, or events may give rise to or amplify many of the risks discussed below. \\nMany of the risks discussed below also impact our customers, including third-party sellers, which could indirectly have a \\nmaterial adverse effect on us.\\nBusiness and Industry Risks\\nWe Face Intense Competition\\nOur businesses are rapidly evolving and intensely competitive, and we have many competitors across geographies, \\nincluding cross-border competition, and in different industries, including physical, e-commerce, and omnichannel retail, e-\\ncommerce services, web and infrastructure computing services, electronic devices, digital content, advertising, grocery,',\n",
       " 'enduring franchise.\\nBecause of our emphasis on the long term, we may make decisions and weigh tradeoffs differently than\\nsome companies. Accordingly, we want to share with you our fundamental management and decision-making\\napproach so that you, our shareholders, may confirm that it is consistent with your investment philosophy:\\n• We will continue to focus relentlessly on our customers.\\n• We will continue to make investment decisions in light of long-term market leadership considerations\\nrather than short-term profitability considerations or short-term Wall Street reactions.\\n• We will continue to measure our programs and the effectiveness of our investments analytically, to\\njettison those that do not provide acceptable returns, and to step up our investment in those that work\\nbest. We will continue to learn from both our successes and our failures.\\nOur Business Suffers When We Are Unsuccessful in Making, Integrating, and Maintaining Acquisitions and Investments\\nWe have acquired and invested in a number of companies, and we may in the future acquire or invest in or enter into joint \\nventures with additional companies. These transactions involve risks such as:\\n• disruption of our ongoing business, including loss of management focus on existing businesses;\\n• problems retaining key personnel;\\n• additional operating losses and expenses of the businesses we acquired or in which we invested;\\n• the potential impairment of tangible and intangible assets and goodwill, including as a result of acquisitions;\\n• the potential impairment of customer and other relationships of the company we acquired or in which we invested or \\nour own customers as a result of any integration of operations;\\n• the difficulty of completing such transactions, including obtaining regulatory approvals or satisfying other closing\\nthat any company prioritizes customers as relentlessly as we do. Lots of companies say they will; few follow\\nthrough. Second, it’s challenging to find a company where you can make a bigger impact on the world\\nthan you can at Amazon. Third, we make significant long-term investments and bets in both inventions and\\npeople. This allows our teams to iterate on ideas, and make the right long-term decisions for customers\\nand the company. And, I’ve never encountered a more intelligent, creative, ambitious, hungry, hard-working,\\nand missionary group of teammates than we have at Amazon. In my opinion, this is a remarkable set of\\nqualities to have at a company. And, for builders who want to change the world, and who have fire in their\\nbelly, there’s no better place to be than Amazon.\\n• We will make bold rather than timid investment decisions where we see a sufficient probability of\\ngaining market leadership advantages. Some of these investments will pay off, others will not, and we\\nwill have learned another valuable lesson in either case.\\n• When forced to choose between optimizing the appearance of our GAAP accounting and maximizing\\nthe present value of future cash flows, we’ll take the cash flows.\\n• We will share our strategic thought processes with you when we make bold choices (to the extent\\ncompetitive pressures allow), so that you may evaluate for yourselves whether we are making rational\\nlong-term leadership investments.\\n• We will work hard to spend wisely and maintain our lean culture. We understand the importance of\\ncontinually reinforcing a cost-conscious culture, particularly in a business incurring net losses.\\n• We will balance our focus on growth with emphasis on long-term profitability and capital management.',\n",
       " 'material effect on our business, consolidated financial position, results of operations, or cash flows. In addition, it is possible \\nthat a resolution of one or more such proceedings, including as a result of a settlement, could involve licenses, sanctions, \\nconsent decrees, or orders requiring us to make substantial future payments, preventing us from offering certain products or \\nservices, requiring us to change our business practices in a manner materially adverse to our business, requiring development of \\nnon-infringing or otherwise altered products or technologies, damaging our reputation, or otherwise having a material effect on \\nour operations. \\nWe Are Subject to Product Liability Claims When People or Property Are Harmed by the Products We Sell or \\nManufacture\\nSome of the products we sell or manufacture expose us to product liability or food safety claims relating to personal\\nleases and financing obligations approximates the actual payments of cash for our finance leases and financing obligations. The \\nfollowing is a reconciliation of free cash flow less principal repayments of finance leases and financing obligations to the most \\ncomparable GAAP cash flow measure, “Net cash provided by (used in) operating activities,” for 2023 and 2024 (in millions):\\n Year Ended December 31,\\n 2023 2024\\nNet cash provided by (used in) operating activities $ 84,946 $ 115,877 \\nPurchases of property and equipment, net of proceeds from sales and incentives  (48,133)  (77,658) \\nFree cash flow  36,813  38,219 \\nPrincipal repayments of finance leases  (4,384)  (2,043) \\nPrincipal repayments of financing obligations  (271)  (669) \\nFree cash flow less principal repayments of finance leases and financing obligations $ 32,158 $ 35,507 \\nNet cash provided by (used in) investing activities $ (49,833) $ (94,342) \\nNet cash provided by (used in) financing activities $ (15,879) $ (11,812) \\n28\\nOur Business Suffers When We Are Unsuccessful in Making, Integrating, and Maintaining Acquisitions and Investments\\nWe have acquired and invested in a number of companies, and we may in the future acquire or invest in or enter into joint \\nventures with additional companies. These transactions involve risks such as:\\n• disruption of our ongoing business, including loss of management focus on existing businesses;\\n• problems retaining key personnel;\\n• additional operating losses and expenses of the businesses we acquired or in which we invested;\\n• the potential impairment of tangible and intangible assets and goodwill, including as a result of acquisitions;\\n• the potential impairment of customer and other relationships of the company we acquired or in which we invested or \\nour own customers as a result of any integration of operations;\\n• the difficulty of completing such transactions, including obtaining regulatory approvals or satisfying other closing\\n• We will make bold rather than timid investment decisions where we see a sufficient probability of\\ngaining market leadership advantages. Some of these investments will pay off, others will not, and we\\nwill have learned another valuable lesson in either case.\\n• When forced to choose between optimizing the appearance of our GAAP accounting and maximizing\\nthe present value of future cash flows, we’ll take the cash flows.\\n• We will share our strategic thought processes with you when we make bold choices (to the extent\\ncompetitive pressures allow), so that you may evaluate for yourselves whether we are making rational\\nlong-term leadership investments.\\n• We will work hard to spend wisely and maintain our lean culture. We understand the importance of\\ncontinually reinforcing a cost-conscious culture, particularly in a business incurring net losses.\\n• We will balance our focus on growth with emphasis on long-term profitability and capital management.',\n",
       " '• We will balance our focus on growth with emphasis on long-term profitability and capital management.\\nAt this stage, we choose to prioritize growth because we believe that scale is central to achieving the\\npotential of our business model.\\n• We will continue to focus on hiring and retaining versatile and talented employees, and continue to\\nweight their compensation to stock options rather than cash. We know our success will be largely\\naffected by our ability to attract and retain a motivated employee base, each of whom must think like,\\nand therefore must actually be, an owner.\\nWe aren’t so bold as to claim that the above is the “right” investment philosophy, but it’s ours, and we\\nwould be remiss if we weren’t clear in the approach we have taken and will continue to take.\\nWith this foundation, we would like to turn to a review of our business focus, our progress in 1997, and our\\noutlook for the future.\\nObsess Over Customers\\nthat any company prioritizes customers as relentlessly as we do. Lots of companies say they will; few follow\\nthrough. Second, it’s challenging to find a company where you can make a bigger impact on the world\\nthan you can at Amazon. Third, we make significant long-term investments and bets in both inventions and\\npeople. This allows our teams to iterate on ideas, and make the right long-term decisions for customers\\nand the company. And, I’ve never encountered a more intelligent, creative, ambitious, hungry, hard-working,\\nand missionary group of teammates than we have at Amazon. In my opinion, this is a remarkable set of\\nqualities to have at a company. And, for builders who want to change the world, and who have fire in their\\nbelly, there’s no better place to be than Amazon.\\ncovering certain of our proprietary technology. \\nSeasonality\\nOur business is affected by seasonality, which historically has resulted in higher sales volume during our fourth quarter, \\nwhich ends December 31. \\nHuman Capital\\nOur employees are critical to our mission of being Earth’s most customer-centric company. As of December 31, 2024, we \\nemployed approximately 1,556,000 full-time and part-time employees. Additionally, we use independent contractors and \\ntemporary personnel to supplement our workforce. Competition for qualified personnel is intense, particularly for software \\nengineers, computer scientists, and other technical staff, and constrained labor markets have increased competition for \\npersonnel across other parts of our business.\\nWe strive to be Earth’s best employer. We rely on numerous and evolving initiatives to implement this objective and \\ninvent mechanisms for talent development, including competitive pay and benefits, flexible work arrangements, and skills\\nWe operate like the world’s largest startup in large part because of our culture of Why. We don’t always get\\neverything right, and we learn and iterate like crazy. But, we’re constantly choosing to prioritize customers,\\ndelivery, invention, ownership, speed, scrappiness, curiosity, and building a company that outlasts us all. It\\nremains Day One.\\nSincerely,\\nAndy Jassy\\nPresident and Chief Executive Officer\\nAmazon.com, Inc.\\nP .S. As we have always done, our original 1997 Shareholder Letter follows. What’s written there is as true\\ntoday as it was in 1997.',\n",
       " 'Profitero, found Amazon the lowest-priced online U.S. Retailer for the eighth year in a row), and for the\\nsecond year in a row, we shipped at record speed to our Prime members. AWS launched a slew of new\\ninfrastructure and AI services that make it even easier to build remarkable customer experiences, including\\nour latest custom AI silicon (Trainium2), a new set of frontier foundation models in Amazon Nova, and\\nsignificant expansion of available models and features in our leading Generative AI (“GenAI”) services\\nAmazon SageMaker and Amazon Bedrock. Prime Video continued to offer compelling original shows,\\nincluding new seasons forFallout, Reacher, The Boys,and The Lord of the Rings: Rings of Power, movies like\\nRoad House, The Idea of You,and Red One, live sports likeThursday Night Footballand UEFA Champions\\nLeague in Europe (with the NBA and NASCAR coming in 2025), and new selection, highlighted by Apple\\n1997 LETTER TO SHAREHOLDERS\\n(Reprinted from the 1997 Annual Report)\\nTo our shareholders:\\nAmazon.com passed many milestones in 1997: by year-end, we had served more than 1.5 million customers,\\nyielding 838% revenue growth to $147.8 million, and extended our market leadership despite aggressive\\ncompetitive entry.\\nBut this is Day 1 for the Internet and, if we execute well, for Amazon.com. Today, online commerce saves\\ncustomers money and precious time. Tomorrow, through personalization, online commerce will accelerate the\\nvery process of discovery. Amazon.com uses the Internet to create real value for its customers and, by doing so,\\nhopes to create an enduring franchise, even in established and large markets.\\nWe have a window of opportunity as larger players marshal the resources to pursue the online opportunity\\nand as customers, new to purchasing online, are receptive to forming new relationships. The competitive\\nmemorize whatever you’ve done on Amazon. This is pretty game-changing for consumers, and just the start of\\nwhat Alexa+ will do. We have over 600 million Alexa devices out there today, and expect Alexa+ to play\\nan even more vital role in the lives of these hundreds of millions of customers in the future.\\nWhy can’t we get items to customers even faster? Does it matter?\\nEvery year, people ask whether we’ve reached the law of diminishing returns on speed of delivery. Our data\\nshows this not to be the case. When we promise faster delivery times, customers complete purchases at a\\nmeaningfully higher rate and shop with us more frequently. Amazon Prime started with unlimited, free, two-\\nday delivery for a million products; it’s now grown to over 300 million items, with tens of millions available\\npurported classes of Illinois residents who had biometric identifiers collected through Amazon products or services, including \\nAmazon Photos, Alexa, AWS cloud services, Ring, Amazon Connect, Amazon’s Flex driver app, and Amazon’s virtual try-on \\ntechnology. The complaints seek certification as class actions, unspecified amounts of damages, injunctive relief, attorneys’ \\nfees, costs, and interest. We dispute the allegations of wrongdoing and intend to defend ourselves vigorously in these matters.\\nBeginning in March 2020 with Frame-Wilson v. Amazon.com, Inc. filed in the United States District Court for the \\nWestern District of Washington (“W.D. Wash.”), private litigants have filed a number of cases in the U.S. and Canada alleging, \\namong other things, price fixing arrangements between Amazon.com, Inc. and vendors and third-party sellers in Amazon’s \\nstores, monopolization and attempted monopolization, and consumer protection and unjust enrichment claims. Attorneys']"
      ]
     },
     "execution_count": 209,
     "metadata": {},
     "output_type": "execute_result"
    }
   ],
   "source": [
    "contexts "
   ]
  },
  {
   "cell_type": "code",
   "execution_count": null,
   "id": "b0f77786",
   "metadata": {},
   "outputs": [],
   "source": [
    "    # Ground truth는 예시로 질문에 대한 간단한 참조 답변 생성\n",
    "    ground_truths = []\n",
    "    for question in questions:\n",
    "        prompt = f\"Provide a concise and accurate answer to the following question based on the context: \\n\\n Question: {question}\\n\\nContext: {sample_context}\"\n",
    "        ground_truth = llm.invoke(prompt).content.strip()\n",
    "        ground_truths.append(ground_truth)"
   ]
  },
  {
   "cell_type": "code",
   "execution_count": null,
   "id": "aeb38941",
   "metadata": {},
   "outputs": [
    {
     "data": {
      "text/plain": [
       "[\"Here are five relevant questions that can be answered using the provided context:  \\n\\n1. **What is Amazon's investment philosophy?**  \\n   - Amazon prioritizes bold investments for market leadership, values cash flows over GAAP accounting, shares strategic decisions transparently, maintains a lean culture, balances growth with profitability, and emphasizes employee ownership through stock options.  \\n\\n2. **How does Amazon prioritize customer experience?**  \\n   - Amazon obsesses over customers by offering vast selection, convenience (24/7 access, 1-Click shopping), lower prices, and continuous improvements like gift certificates and enhanced recommendations.  \\n\\n3. **What were Amazon's key achievements in 1997?**  \\n   - Sales grew 838% to $147.8M, customer accounts increased 738% to 1.51M, repeat orders rose to 58%, website reach entered the top 20, and strategic partnerships (e.g., AOL, Yahoo!) were established.  \\n\\n4. **Why does Amazon focus on growth over short-term profitability?**  \\n   - Amazon believes scale is crucial to realizing its business model's potential, so it prioritizes growth while maintaining cost-consciousness and long-term capital management.  \\n\\n5. **How does Amazon attract and retain employees?**  \\n   - Amazon hires versatile talent, compensates heavily with stock options (to foster ownership mentality), and emphasizes motivation and retention as key to success.\",\n",
       " \"The company's investment philosophy prioritizes bold, long-term leadership investments over short-term accounting optimization, focusing on maximizing future cash flows and market leadership. It balances growth with profitability, emphasizes cost-consciousness, and aligns employee incentives with ownership through stock options. The approach is transparent (where competitive pressures allow), rational, and customer-centric, with a strong belief in scale as key to business potential. Investments are made even with uncertain outcomes, as they provide valuable lessons regardless of success.  \\n\\nKey aspects include:  \\n- **Bold decisions**: Willingness to invest aggressively for market leadership, accepting some failures as learning opportunities.  \\n- **Cash flow focus**: Prioritizing long-term value over GAAP accounting appearances.  \\n- **Transparency**: Sharing strategic rationale for bold choices when possible.  \\n- **Lean culture**: Maintaining cost discipline despite growth priorities.  \\n- **Employee ownership**: Compensating talent with stock options to foster alignment with long-term success.  \\n- **Customer obsession**: Driving growth through superior value, innovation, and word-of-mouth.  \\n\\nThe philosophy is rooted in scale, customer trust, and strategic partnerships, as demonstrated by Amazon's rapid growth in 1997.\",\n",
       " 'The company prioritizes **maximizing the present value of future cash flows** over optimizing the appearance of GAAP accounting when forced to choose between the two. This approach aligns with its focus on bold, long-term investments and market leadership, even if some decisions may not immediately reflect favorably under GAAP standards. \\n\\n(Answer derived directly from the context: *\"When forced to choose between optimizing the appearance of our GAAP accounting and maximizing the present value of future cash flows, we’ll take the cash flows.\"*)',\n",
       " 'The company maintains a **cost-conscious culture while focusing on growth** through the following strategies:  \\n\\n1. **Bold but selective investments**—Prioritizing market leadership potential while accepting that some investments may fail, using lessons to improve future decisions.  \\n2. **Cash flow focus**—Valuing long-term cash flow over short-term accounting appearances.  \\n3. **Lean spending**—Reinforcing cost discipline, especially in a loss-making phase, to balance growth with efficiency.  \\n4. **Employee ownership mindset**—Compensating employees with stock options over cash to align incentives with long-term success.  \\n5. **Customer-centric scaling**—Driving growth through high-value offerings (e.g., lower prices, convenience) that attract repeat business and word-of-mouth referrals, reducing acquisition costs.  \\n\\nThese measures ensure disciplined spending while aggressively pursuing scalable growth.',\n",
       " 'In 1997, Amazon.com improved its customer experience by introducing several new features, including **gift certificates, 1-Click shopping, and expanded reviews, content, browsing options, and recommendation features**. Additionally, the company **dramatically lowered prices** to enhance customer value. These enhancements, along with a focus on a **vast selection, ease of use, and 24/7 accessibility**, contributed to significant growth in sales, customer accounts, and repeat purchases.']"
      ]
     },
     "execution_count": 163,
     "metadata": {},
     "output_type": "execute_result"
    }
   ],
   "source": [
    "ground_truths "
   ]
  },
  {
   "cell_type": "code",
   "execution_count": 230,
   "id": "71456da8",
   "metadata": {},
   "outputs": [],
   "source": [
    "# 4. 데이터셋 생성 및 저장\n",
    "import pandas as pd\n",
    "from datasets import Dataset\n",
    "\n",
    "def create_and_save_dataset(questions, answers, contexts, ground_truths, output_path):\n",
    "    data = {\n",
    "        \"question\": questions,\n",
    "        \"answer\": answers,\n",
    "        \"contexts\": contexts,\n",
    "        \"ground_truth\": ground_truths\n",
    "    }\n",
    "    dataset = Dataset.from_pandas(pd.DataFrame(data))\n",
    "    dataset.save_to_disk(output_path)\n",
    "    return dataset"
   ]
  },
  {
   "cell_type": "code",
   "execution_count": 211,
   "id": "0d44ebe4",
   "metadata": {},
   "outputs": [
    {
     "data": {
      "application/vnd.jupyter.widget-view+json": {
       "model_id": "cec0beed25484794a2d3b1718f573b36",
       "version_major": 2,
       "version_minor": 0
      },
      "text/plain": [
       "Saving the dataset (0/1 shards):   0%|          | 0/5 [00:00<?, ? examples/s]"
      ]
     },
     "metadata": {},
     "output_type": "display_data"
    },
    {
     "name": "stdout",
     "output_type": "stream",
     "text": [
      "Dataset saved to rag_evaluation_dataset\n",
      "Dataset({\n",
      "    features: ['question', 'answer', 'contexts', 'ground_truth'],\n",
      "    num_rows: 5\n",
      "})\n"
     ]
    }
   ],
   "source": [
    "    # 데이터셋 생성 및 저장\n",
    "    output_path = \"rag_evaluation_dataset\"\n",
    "    dataset = create_and_save_dataset(questions, answers, contexts, ground_truths, output_path)\n",
    "    print(f\"Dataset saved to {output_path}\")\n",
    "    print(dataset)"
   ]
  },
  {
   "cell_type": "code",
   "execution_count": 233,
   "id": "4218aeee",
   "metadata": {},
   "outputs": [
    {
     "data": {
      "text/plain": [
       "{'question': 'Here are five relevant questions that can be answered using the provided context:',\n",
       " 'answer': '1. **What factors contribute to the estimation of Amazon\\'s liabilities for claims?**  \\n   - Amazon estimates its liabilities by considering historical claims experience, frequency and costs of claims, projected claims development, inflation, and other actuarial assumptions. Changes in these factors could cause actual results to differ materially from estimates.  \\n\\n2. **Why did Amazon increase its reserves for liabilities in Q4 2022?**  \\n   - In Q4 2022, Amazon increased its reserves for general, product, and automobile liabilities by $1.3 billion, primarily due to changes in estimates about the costs of asserted and unasserted claims. This adjustment was recorded in \"Cost of sales\" and impacted the North America segment.  \\n\\n3. **What legal proceedings is Amazon currently involved in?**  \\n   - Amazon is facing a lawsuit filed by Rensselaer Polytechnic Institute and CF Dynamic Advances LLC in May 2018, alleging that \"Alexa Voice Software and Alexa-enabled devices\" infringe U.S. Patent No. 7,177,798.  \\n\\n4. **What are some of the competitive challenges Amazon faces?**  \\n   - Amazon operates in a rapidly evolving and intensely competitive environment across multiple industries, including e-commerce, cloud computing, digital content, advertising, and grocery. It faces competition from physical retailers, online platforms, and cross-border competitors.  \\n\\n5. **How does Amazon foster a \"Why Culture\" to encourage innovation?**  \\n   - Amazon believes in enabling a high \"YQ\" (Why Quotient) by embedding curiosity, risk-taking, experimentation, and persistence into its culture and leadership. This requires long-term commitment and protection, especially as the company scales.  \\n\\nLet me know if you\\'d like further clarification on any of these answers!',\n",
       " 'contexts': 'these were provocative questions that required curiosity, risk-taking, experimentation, and persistence to\\nmake these into success stories.\\nEnabling a Why Culture\\nIf you believe having high YQ is critical to inventing for customers, how do you enable it? In my opinion,\\nit’s not solved with one mechanism. It needs to be built deeply into your culture and leadership team, and has\\nto be fiercely protected over time if you’re lucky enough to be successful. Here are a few of the strategies\\nwe employ.\\nliabilities by considering historical claims experience, frequency and costs of claims, projected claims development, inflation, \\nand other actuarial assumptions. Changes in the number or costs of claims, healthcare costs, judgment and settlement amounts, \\nassociated legal expenses, and other factors could cause actual results to differ materially from these estimates. In the fourth \\nquarter of 2022, we increased our reserves for general, product, and automobile liabilities by $1.3 billion primarily driven by \\nchanges in our estimates about the costs of asserted and unasserted claims, which was primarily recorded in “Cost of sales” on \\nour consolidated statements of operations and impacted our North America segment. Increases to our reserves driven by \\n49\\nthird parties, including as a result of evolving requirements imposed on marketplaces with respect to third-party sellers, and (iii) \\nthe adequacy of compliance with reporting obligations, including evolving documentation requirements. Due to the inherent \\ncomplexity and uncertainty of these matters and the judicial and regulatory processes in certain jurisdictions, the final outcome \\nof any such controversies may be materially different from our expectations.\\nLegal Proceedings\\nThe Company is involved from time to time in claims, proceedings, and litigation, including the following:\\nIn May 2018, Rensselaer Polytechnic Institute and CF Dynamic Advances LLC filed a complaint against Amazon.com, \\nInc. in the United States District Court for the Northern District of New York. The complaint alleged, among other things, that \\n“Alexa Voice Software and Alexa enabled devices” infringe U.S. Patent No. 7,177,798, entitled “Natural Language Interface\\nrisks to our operations. In addition to the factors discussed in Item 7 of Part II, “Management’s Discussion and Analysis of \\nFinancial Condition and Results of Operations,” and in the risk factors below, global economic and geopolitical conditions and \\nadditional or unforeseen circumstances, developments, or events may give rise to or amplify many of the risks discussed below. \\nMany of the risks discussed below also impact our customers, including third-party sellers, which could indirectly have a \\nmaterial adverse effect on us.\\nBusiness and Industry Risks\\nWe Face Intense Competition\\nOur businesses are rapidly evolving and intensely competitive, and we have many competitors across geographies, \\nincluding cross-border competition, and in different industries, including physical, e-commerce, and omnichannel retail, e-\\ncommerce services, web and infrastructure computing services, electronic devices, digital content, advertising, grocery,',\n",
       " 'ground_truth': \"Here are five relevant questions that can be answered using the provided context:  \\n\\n1. **What is Amazon's investment philosophy?**  \\n   - Amazon prioritizes bold investments for market leadership, values cash flows over GAAP accounting, shares strategic decisions transparently, maintains a lean culture, balances growth with profitability, and emphasizes employee ownership through stock options.  \\n\\n2. **How does Amazon prioritize customer experience?**  \\n   - Amazon obsesses over customers by offering vast selection, convenience (24/7 access, 1-Click shopping), lower prices, and continuous improvements like gift certificates and enhanced recommendations.  \\n\\n3. **What were Amazon's key achievements in 1997?**  \\n   - Sales grew 838% to $147.8M, customer accounts increased 738% to 1.51M, repeat orders rose to 58%, website reach entered the top 20, and strategic partnerships (e.g., AOL, Yahoo!) were established.  \\n\\n4. **Why does Amazon focus on growth over short-term profitability?**  \\n   - Amazon believes scale is crucial to realizing its business model's potential, so it prioritizes growth while maintaining cost-consciousness and long-term capital management.  \\n\\n5. **How does Amazon attract and retain employees?**  \\n   - Amazon hires versatile talent, compensates heavily with stock options (to foster ownership mentality), and emphasizes motivation and retention as key to success.\"}"
      ]
     },
     "execution_count": 233,
     "metadata": {},
     "output_type": "execute_result"
    }
   ],
   "source": [
    "dataset[0]"
   ]
  },
  {
   "cell_type": "markdown",
   "id": "447c1c3b",
   "metadata": {},
   "source": [
    "rm -rf rag_evaluation_dataset"
   ]
  },
  {
   "cell_type": "code",
   "execution_count": null,
   "id": "08323a06",
   "metadata": {},
   "outputs": [
    {
     "data": {
      "text/plain": [
       "{'question': 'Here are five relevant questions that can be answered using the provided context:',\n",
       " 'answer': '1. **What factors contribute to the estimation of Amazon\\'s liabilities for claims?**  \\n   - Amazon estimates its liabilities by considering historical claims experience, frequency and costs of claims, projected claims development, inflation, and other actuarial assumptions. Changes in these factors could cause actual results to differ materially from estimates.  \\n\\n2. **Why did Amazon increase its reserves for liabilities in Q4 2022?**  \\n   - In Q4 2022, Amazon increased its reserves for general, product, and automobile liabilities by $1.3 billion, primarily due to changes in estimates about the costs of asserted and unasserted claims. This adjustment was recorded in \"Cost of sales\" and impacted the North America segment.  \\n\\n3. **What legal proceedings is Amazon currently involved in?**  \\n   - Amazon is facing a lawsuit filed by Rensselaer Polytechnic Institute and CF Dynamic Advances LLC in May 2018, alleging that \"Alexa Voice Software and Alexa-enabled devices\" infringe U.S. Patent No. 7,177,798.  \\n\\n4. **What are some of the competitive challenges Amazon faces?**  \\n   - Amazon operates in a rapidly evolving and intensely competitive environment across multiple industries, including e-commerce, cloud computing, digital content, advertising, and grocery. It faces competition from physical retailers, online platforms, and cross-border competitors.  \\n\\n5. **How does Amazon foster a \"Why Culture\" to encourage innovation?**  \\n   - Amazon believes in enabling a high \"YQ\" (Why Quotient) by embedding curiosity, risk-taking, experimentation, and persistence into its culture and leadership. This requires long-term commitment and protection, especially as the company scales.  \\n\\nLet me know if you\\'d like further clarification on any of these answers!',\n",
       " 'contexts': 'these were provocative questions that required curiosity, risk-taking, experimentation, and persistence to\\nmake these into success stories.\\nEnabling a Why Culture\\nIf you believe having high YQ is critical to inventing for customers, how do you enable it? In my opinion,\\nit’s not solved with one mechanism. It needs to be built deeply into your culture and leadership team, and has\\nto be fiercely protected over time if you’re lucky enough to be successful. Here are a few of the strategies\\nwe employ.\\nliabilities by considering historical claims experience, frequency and costs of claims, projected claims development, inflation, \\nand other actuarial assumptions. Changes in the number or costs of claims, healthcare costs, judgment and settlement amounts, \\nassociated legal expenses, and other factors could cause actual results to differ materially from these estimates. In the fourth \\nquarter of 2022, we increased our reserves for general, product, and automobile liabilities by $1.3 billion primarily driven by \\nchanges in our estimates about the costs of asserted and unasserted claims, which was primarily recorded in “Cost of sales” on \\nour consolidated statements of operations and impacted our North America segment. Increases to our reserves driven by \\n49\\nthird parties, including as a result of evolving requirements imposed on marketplaces with respect to third-party sellers, and (iii) \\nthe adequacy of compliance with reporting obligations, including evolving documentation requirements. Due to the inherent \\ncomplexity and uncertainty of these matters and the judicial and regulatory processes in certain jurisdictions, the final outcome \\nof any such controversies may be materially different from our expectations.\\nLegal Proceedings\\nThe Company is involved from time to time in claims, proceedings, and litigation, including the following:\\nIn May 2018, Rensselaer Polytechnic Institute and CF Dynamic Advances LLC filed a complaint against Amazon.com, \\nInc. in the United States District Court for the Northern District of New York. The complaint alleged, among other things, that \\n“Alexa Voice Software and Alexa enabled devices” infringe U.S. Patent No. 7,177,798, entitled “Natural Language Interface\\nrisks to our operations. In addition to the factors discussed in Item 7 of Part II, “Management’s Discussion and Analysis of \\nFinancial Condition and Results of Operations,” and in the risk factors below, global economic and geopolitical conditions and \\nadditional or unforeseen circumstances, developments, or events may give rise to or amplify many of the risks discussed below. \\nMany of the risks discussed below also impact our customers, including third-party sellers, which could indirectly have a \\nmaterial adverse effect on us.\\nBusiness and Industry Risks\\nWe Face Intense Competition\\nOur businesses are rapidly evolving and intensely competitive, and we have many competitors across geographies, \\nincluding cross-border competition, and in different industries, including physical, e-commerce, and omnichannel retail, e-\\ncommerce services, web and infrastructure computing services, electronic devices, digital content, advertising, grocery,',\n",
       " 'ground_truth': \"Here are five relevant questions that can be answered using the provided context:  \\n\\n1. **What is Amazon's investment philosophy?**  \\n   - Amazon prioritizes bold investments for market leadership, values cash flows over GAAP accounting, shares strategic decisions transparently, maintains a lean culture, balances growth with profitability, and emphasizes employee ownership through stock options.  \\n\\n2. **How does Amazon prioritize customer experience?**  \\n   - Amazon obsesses over customers by offering vast selection, convenience (24/7 access, 1-Click shopping), lower prices, and continuous improvements like gift certificates and enhanced recommendations.  \\n\\n3. **What were Amazon's key achievements in 1997?**  \\n   - Sales grew 838% to $147.8M, customer accounts increased 738% to 1.51M, repeat orders rose to 58%, website reach entered the top 20, and strategic partnerships (e.g., AOL, Yahoo!) were established.  \\n\\n4. **Why does Amazon focus on growth over short-term profitability?**  \\n   - Amazon believes scale is crucial to realizing its business model's potential, so it prioritizes growth while maintaining cost-consciousness and long-term capital management.  \\n\\n5. **How does Amazon attract and retain employees?**  \\n   - Amazon hires versatile talent, compensates heavily with stock options (to foster ownership mentality), and emphasizes motivation and retention as key to success.\"}"
      ]
     },
     "execution_count": 227,
     "metadata": {},
     "output_type": "execute_result"
    }
   ],
   "source": [
    "from datasets import load_from_disk\n",
    "dataset = load_from_disk(\"rag_evaluation_dataset\")\n",
    "dataset[0] "
   ]
  },
  {
   "cell_type": "code",
   "execution_count": 221,
   "id": "0f7404be",
   "metadata": {},
   "outputs": [
    {
     "data": {
      "application/vnd.jupyter.widget-view+json": {
       "model_id": "df4361e296114131bd94eab04ee22a55",
       "version_major": 2,
       "version_minor": 0
      },
      "text/plain": [
       "Saving the dataset (0/1 shards):   0%|          | 0/5 [00:00<?, ? examples/s]"
      ]
     },
     "metadata": {},
     "output_type": "display_data"
    },
    {
     "name": "stdout",
     "output_type": "stream",
     "text": [
      "Dataset saved to rag_evaluation_dataset\n",
      "Dataset({\n",
      "    features: ['question', 'answer', 'contexts', 'ground_truth'],\n",
      "    num_rows: 5\n",
      "})\n"
     ]
    }
   ],
   "source": [
    "    # 데이터셋 생성 및 저장\n",
    "    output_path = \"rag_evaluation_dataset\"\n",
    "    dataset = create_and_save_dataset(questions, answers, contexts, ground_truths, output_path)\n",
    "    print(f\"Dataset saved to {output_path}\")\n",
    "    print(dataset)"
   ]
  },
  {
   "cell_type": "code",
   "execution_count": 228,
   "id": "eef98065",
   "metadata": {},
   "outputs": [],
   "source": [
    "\n",
    "# 5. Ragas로 데이터셋 평가\n",
    "def evaluate_dataset(dataset, llm, embeddings):\n",
    "    result = evaluate(\n",
    "        dataset=dataset,\n",
    "        metrics=[\n",
    "            faithfulness,\n",
    "            answer_relevancy,\n",
    "            context_recall,\n",
    "            context_precision\n",
    "        ],\n",
    "        llm=llm,\n",
    "        embeddings=embeddings\n",
    "    )\n",
    "    return result"
   ]
  },
  {
   "cell_type": "code",
   "execution_count": 223,
   "id": "dcff5b8e",
   "metadata": {},
   "outputs": [
    {
     "name": "stdout",
     "output_type": "stream",
     "text": [
      "\n",
      "Evaluating RAG performance with Ragas...\n"
     ]
    },
    {
     "ename": "ValidationError",
     "evalue": "1 validation error for SingleTurnSample\nretrieved_contexts\n  Input should be a valid list [type=list_type, input_value='these were provocative q..., advertising, grocery,', input_type=str]\n    For further information visit https://errors.pydantic.dev/2.11/v/list_type",
     "output_type": "error",
     "traceback": [
      "\u001b[0;31m---------------------------------------------------------------------------\u001b[0m",
      "\u001b[0;31mValidationError\u001b[0m                           Traceback (most recent call last)",
      "Cell \u001b[0;32mIn[223], line 3\u001b[0m\n\u001b[1;32m      1\u001b[0m \u001b[38;5;66;03m# 데이터셋 평가\u001b[39;00m\n\u001b[1;32m      2\u001b[0m \u001b[38;5;28mprint\u001b[39m(\u001b[38;5;124m\"\u001b[39m\u001b[38;5;130;01m\\n\u001b[39;00m\u001b[38;5;124mEvaluating RAG performance with Ragas...\u001b[39m\u001b[38;5;124m\"\u001b[39m)\n\u001b[0;32m----> 3\u001b[0m evaluation_results \u001b[38;5;241m=\u001b[39m \u001b[43mevaluate_dataset\u001b[49m\u001b[43m(\u001b[49m\u001b[43mdataset\u001b[49m\u001b[43m,\u001b[49m\u001b[43m \u001b[49m\u001b[43mllm\u001b[49m\u001b[43m,\u001b[49m\u001b[43m \u001b[49m\u001b[43membedding_huggingface\u001b[49m\u001b[43m \u001b[49m\u001b[43m)\u001b[49m\n\u001b[1;32m      4\u001b[0m \u001b[38;5;28mprint\u001b[39m(\u001b[38;5;124m\"\u001b[39m\u001b[38;5;130;01m\\n\u001b[39;00m\u001b[38;5;124mEvaluation Results:\u001b[39m\u001b[38;5;124m\"\u001b[39m)\n\u001b[1;32m      5\u001b[0m \u001b[38;5;28mprint\u001b[39m(evaluation_results)\n",
      "Cell \u001b[0;32mIn[222], line 3\u001b[0m, in \u001b[0;36mevaluate_dataset\u001b[0;34m(dataset, llm, embeddings)\u001b[0m\n\u001b[1;32m      2\u001b[0m \u001b[38;5;28;01mdef\u001b[39;00m\u001b[38;5;250m \u001b[39m\u001b[38;5;21mevaluate_dataset\u001b[39m(dataset, llm, embeddings):\n\u001b[0;32m----> 3\u001b[0m     result \u001b[38;5;241m=\u001b[39m \u001b[43mevaluate\u001b[49m\u001b[43m(\u001b[49m\n\u001b[1;32m      4\u001b[0m \u001b[43m        \u001b[49m\u001b[43mdataset\u001b[49m\u001b[38;5;241;43m=\u001b[39;49m\u001b[43mdataset\u001b[49m\u001b[43m,\u001b[49m\n\u001b[1;32m      5\u001b[0m \u001b[43m        \u001b[49m\u001b[43mmetrics\u001b[49m\u001b[38;5;241;43m=\u001b[39;49m\u001b[43m[\u001b[49m\n\u001b[1;32m      6\u001b[0m \u001b[43m            \u001b[49m\u001b[43mfaithfulness\u001b[49m\u001b[43m,\u001b[49m\n\u001b[1;32m      7\u001b[0m \u001b[43m            \u001b[49m\u001b[43manswer_relevancy\u001b[49m\u001b[43m,\u001b[49m\n\u001b[1;32m      8\u001b[0m \u001b[43m            \u001b[49m\u001b[43mcontext_recall\u001b[49m\u001b[43m,\u001b[49m\n\u001b[1;32m      9\u001b[0m \u001b[43m            \u001b[49m\u001b[43mcontext_precision\u001b[49m\n\u001b[1;32m     10\u001b[0m \u001b[43m        \u001b[49m\u001b[43m]\u001b[49m\u001b[43m,\u001b[49m\n\u001b[1;32m     11\u001b[0m \u001b[43m        \u001b[49m\u001b[43mllm\u001b[49m\u001b[38;5;241;43m=\u001b[39;49m\u001b[43mllm\u001b[49m\u001b[43m,\u001b[49m\n\u001b[1;32m     12\u001b[0m \u001b[43m        \u001b[49m\u001b[43membeddings\u001b[49m\u001b[38;5;241;43m=\u001b[39;49m\u001b[43membeddings\u001b[49m\n\u001b[1;32m     13\u001b[0m \u001b[43m    \u001b[49m\u001b[43m)\u001b[49m\n\u001b[1;32m     14\u001b[0m     \u001b[38;5;28;01mreturn\u001b[39;00m result\n",
      "File \u001b[0;32m/opt/anaconda3/envs/env_llm/lib/python3.10/site-packages/ragas/_analytics.py:227\u001b[0m, in \u001b[0;36mtrack_was_completed.<locals>.wrapper\u001b[0;34m(*args, **kwargs)\u001b[0m\n\u001b[1;32m    224\u001b[0m \u001b[38;5;129m@wraps\u001b[39m(func)\n\u001b[1;32m    225\u001b[0m \u001b[38;5;28;01mdef\u001b[39;00m\u001b[38;5;250m \u001b[39m\u001b[38;5;21mwrapper\u001b[39m(\u001b[38;5;241m*\u001b[39margs: P\u001b[38;5;241m.\u001b[39margs, \u001b[38;5;241m*\u001b[39m\u001b[38;5;241m*\u001b[39mkwargs: P\u001b[38;5;241m.\u001b[39mkwargs) \u001b[38;5;241m-\u001b[39m\u001b[38;5;241m>\u001b[39m t\u001b[38;5;241m.\u001b[39mAny:\n\u001b[1;32m    226\u001b[0m     track(IsCompleteEvent(event_type\u001b[38;5;241m=\u001b[39mfunc\u001b[38;5;241m.\u001b[39m\u001b[38;5;18m__name__\u001b[39m, is_completed\u001b[38;5;241m=\u001b[39m\u001b[38;5;28;01mFalse\u001b[39;00m))\n\u001b[0;32m--> 227\u001b[0m     result \u001b[38;5;241m=\u001b[39m \u001b[43mfunc\u001b[49m\u001b[43m(\u001b[49m\u001b[38;5;241;43m*\u001b[39;49m\u001b[43margs\u001b[49m\u001b[43m,\u001b[49m\u001b[43m \u001b[49m\u001b[38;5;241;43m*\u001b[39;49m\u001b[38;5;241;43m*\u001b[39;49m\u001b[43mkwargs\u001b[49m\u001b[43m)\u001b[49m\n\u001b[1;32m    228\u001b[0m     track(IsCompleteEvent(event_type\u001b[38;5;241m=\u001b[39mfunc\u001b[38;5;241m.\u001b[39m\u001b[38;5;18m__name__\u001b[39m, is_completed\u001b[38;5;241m=\u001b[39m\u001b[38;5;28;01mTrue\u001b[39;00m))\n\u001b[1;32m    230\u001b[0m     \u001b[38;5;28;01mreturn\u001b[39;00m result\n",
      "File \u001b[0;32m/opt/anaconda3/envs/env_llm/lib/python3.10/site-packages/ragas/evaluation.py:173\u001b[0m, in \u001b[0;36mevaluate\u001b[0;34m(dataset, metrics, llm, embeddings, experiment_name, callbacks, run_config, token_usage_parser, raise_exceptions, column_map, show_progress, batch_size, _run_id, _pbar)\u001b[0m\n\u001b[1;32m    171\u001b[0m     dataset \u001b[38;5;241m=\u001b[39m convert_v1_to_v2_dataset(dataset)\n\u001b[1;32m    172\u001b[0m     \u001b[38;5;66;03m# validation\u001b[39;00m\n\u001b[0;32m--> 173\u001b[0m     dataset \u001b[38;5;241m=\u001b[39m \u001b[43mEvaluationDataset\u001b[49m\u001b[38;5;241;43m.\u001b[39;49m\u001b[43mfrom_list\u001b[49m\u001b[43m(\u001b[49m\u001b[43mdataset\u001b[49m\u001b[38;5;241;43m.\u001b[39;49m\u001b[43mto_list\u001b[49m\u001b[43m(\u001b[49m\u001b[43m)\u001b[49m\u001b[43m)\u001b[49m\n\u001b[1;32m    175\u001b[0m \u001b[38;5;28;01mif\u001b[39;00m \u001b[38;5;28misinstance\u001b[39m(dataset, EvaluationDataset):\n\u001b[1;32m    176\u001b[0m     validate_required_columns(dataset, metrics)\n",
      "File \u001b[0;32m/opt/anaconda3/envs/env_llm/lib/python3.10/site-packages/ragas/dataset_schema.py:390\u001b[0m, in \u001b[0;36mEvaluationDataset.from_list\u001b[0;34m(cls, data)\u001b[0m\n\u001b[1;32m    388\u001b[0m     samples\u001b[38;5;241m.\u001b[39mextend(MultiTurnSample(\u001b[38;5;241m*\u001b[39m\u001b[38;5;241m*\u001b[39msample) \u001b[38;5;28;01mfor\u001b[39;00m sample \u001b[38;5;129;01min\u001b[39;00m data)\n\u001b[1;32m    389\u001b[0m \u001b[38;5;28;01melse\u001b[39;00m:\n\u001b[0;32m--> 390\u001b[0m     \u001b[43msamples\u001b[49m\u001b[38;5;241;43m.\u001b[39;49m\u001b[43mextend\u001b[49m\u001b[43m(\u001b[49m\u001b[43mSingleTurnSample\u001b[49m\u001b[43m(\u001b[49m\u001b[38;5;241;43m*\u001b[39;49m\u001b[38;5;241;43m*\u001b[39;49m\u001b[43msample\u001b[49m\u001b[43m)\u001b[49m\u001b[43m \u001b[49m\u001b[38;5;28;43;01mfor\u001b[39;49;00m\u001b[43m \u001b[49m\u001b[43msample\u001b[49m\u001b[43m \u001b[49m\u001b[38;5;129;43;01min\u001b[39;49;00m\u001b[43m \u001b[49m\u001b[43mdata\u001b[49m\u001b[43m)\u001b[49m\n\u001b[1;32m    391\u001b[0m \u001b[38;5;28;01mreturn\u001b[39;00m \u001b[38;5;28mcls\u001b[39m(samples\u001b[38;5;241m=\u001b[39msamples)\n",
      "File \u001b[0;32m/opt/anaconda3/envs/env_llm/lib/python3.10/site-packages/ragas/dataset_schema.py:390\u001b[0m, in \u001b[0;36m<genexpr>\u001b[0;34m(.0)\u001b[0m\n\u001b[1;32m    388\u001b[0m     samples\u001b[38;5;241m.\u001b[39mextend(MultiTurnSample(\u001b[38;5;241m*\u001b[39m\u001b[38;5;241m*\u001b[39msample) \u001b[38;5;28;01mfor\u001b[39;00m sample \u001b[38;5;129;01min\u001b[39;00m data)\n\u001b[1;32m    389\u001b[0m \u001b[38;5;28;01melse\u001b[39;00m:\n\u001b[0;32m--> 390\u001b[0m     samples\u001b[38;5;241m.\u001b[39mextend(\u001b[43mSingleTurnSample\u001b[49m\u001b[43m(\u001b[49m\u001b[38;5;241;43m*\u001b[39;49m\u001b[38;5;241;43m*\u001b[39;49m\u001b[43msample\u001b[49m\u001b[43m)\u001b[49m \u001b[38;5;28;01mfor\u001b[39;00m sample \u001b[38;5;129;01min\u001b[39;00m data)\n\u001b[1;32m    391\u001b[0m \u001b[38;5;28;01mreturn\u001b[39;00m \u001b[38;5;28mcls\u001b[39m(samples\u001b[38;5;241m=\u001b[39msamples)\n",
      "File \u001b[0;32m/opt/anaconda3/envs/env_llm/lib/python3.10/site-packages/pydantic/main.py:253\u001b[0m, in \u001b[0;36mBaseModel.__init__\u001b[0;34m(self, **data)\u001b[0m\n\u001b[1;32m    251\u001b[0m \u001b[38;5;66;03m# `__tracebackhide__` tells pytest and some other tools to omit this function from tracebacks\u001b[39;00m\n\u001b[1;32m    252\u001b[0m __tracebackhide__ \u001b[38;5;241m=\u001b[39m \u001b[38;5;28;01mTrue\u001b[39;00m\n\u001b[0;32m--> 253\u001b[0m validated_self \u001b[38;5;241m=\u001b[39m \u001b[38;5;28;43mself\u001b[39;49m\u001b[38;5;241;43m.\u001b[39;49m\u001b[43m__pydantic_validator__\u001b[49m\u001b[38;5;241;43m.\u001b[39;49m\u001b[43mvalidate_python\u001b[49m\u001b[43m(\u001b[49m\u001b[43mdata\u001b[49m\u001b[43m,\u001b[49m\u001b[43m \u001b[49m\u001b[43mself_instance\u001b[49m\u001b[38;5;241;43m=\u001b[39;49m\u001b[38;5;28;43mself\u001b[39;49m\u001b[43m)\u001b[49m\n\u001b[1;32m    254\u001b[0m \u001b[38;5;28;01mif\u001b[39;00m \u001b[38;5;28mself\u001b[39m \u001b[38;5;129;01mis\u001b[39;00m \u001b[38;5;129;01mnot\u001b[39;00m validated_self:\n\u001b[1;32m    255\u001b[0m     warnings\u001b[38;5;241m.\u001b[39mwarn(\n\u001b[1;32m    256\u001b[0m         \u001b[38;5;124m'\u001b[39m\u001b[38;5;124mA custom validator is returning a value other than `self`.\u001b[39m\u001b[38;5;130;01m\\n\u001b[39;00m\u001b[38;5;124m'\u001b[39m\n\u001b[1;32m    257\u001b[0m         \u001b[38;5;124m\"\u001b[39m\u001b[38;5;124mReturning anything other than `self` from a top level model validator isn\u001b[39m\u001b[38;5;124m'\u001b[39m\u001b[38;5;124mt supported when validating via `__init__`.\u001b[39m\u001b[38;5;130;01m\\n\u001b[39;00m\u001b[38;5;124m\"\u001b[39m\n\u001b[1;32m    258\u001b[0m         \u001b[38;5;124m'\u001b[39m\u001b[38;5;124mSee the `model_validator` docs (https://docs.pydantic.dev/latest/concepts/validators/#model-validators) for more details.\u001b[39m\u001b[38;5;124m'\u001b[39m,\n\u001b[1;32m    259\u001b[0m         stacklevel\u001b[38;5;241m=\u001b[39m\u001b[38;5;241m2\u001b[39m,\n\u001b[1;32m    260\u001b[0m     )\n",
      "\u001b[0;31mValidationError\u001b[0m: 1 validation error for SingleTurnSample\nretrieved_contexts\n  Input should be a valid list [type=list_type, input_value='these were provocative q..., advertising, grocery,', input_type=str]\n    For further information visit https://errors.pydantic.dev/2.11/v/list_type"
     ]
    }
   ],
   "source": [
    "    # 데이터셋 평가\n",
    "print(\"\\nEvaluating RAG performance with Ragas...\")\n",
    "evaluation_results = evaluate_dataset(dataset, llm, embedding_huggingface )\n",
    "print(\"\\nEvaluation Results:\")\n",
    "print(evaluation_results)\n",
    "\n",
    "# 결과를 CSV로 저장 (선택 사항)\n",
    "results_df = pd.DataFrame([evaluation_results])\n",
    "results_df.to_csv(\"rag_evaluation_results.csv\", index=False)\n",
    "print(\"Evaluation results saved to rag_evaluation_results.csv\")\n"
   ]
  },
  {
   "cell_type": "code",
   "execution_count": null,
   "id": "ce55e695",
   "metadata": {},
   "outputs": [],
   "source": [
    "os.environ[\"TOKENIZERS_PARALLELISM\"] = \"false\"\n",
    "\n",
    "from ragas import evaluate\n",
    "from ragas.metrics import (\n",
    "    answer_relevancy,\n",
    "    faithfulness,\n",
    "    context_recall,\n",
    "    context_precision,\n",
    ")  \n"
   ]
  },
  {
   "cell_type": "code",
   "execution_count": null,
   "id": "fb522516",
   "metadata": {},
   "outputs": [],
   "source": []
  }
 ],
 "metadata": {
  "kernelspec": {
   "display_name": "env_llm",
   "language": "python",
   "name": "python3"
  },
  "language_info": {
   "codemirror_mode": {
    "name": "ipython",
    "version": 3
   },
   "file_extension": ".py",
   "mimetype": "text/x-python",
   "name": "python",
   "nbconvert_exporter": "python",
   "pygments_lexer": "ipython3",
   "version": "3.10.18"
  }
 },
 "nbformat": 4,
 "nbformat_minor": 5
}
